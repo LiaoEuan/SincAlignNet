{
 "cells": [
  {
   "cell_type": "markdown",
   "id": "58b68c4a",
   "metadata": {},
   "source": [
    "# Preparation"
   ]
  },
  {
   "cell_type": "markdown",
   "id": "4436138b",
   "metadata": {},
   "source": [
    "## Requirment"
   ]
  },
  {
   "cell_type": "code",
   "execution_count": 1,
   "id": "72fe33b3",
   "metadata": {
    "ExecuteTime": {
     "end_time": "2024-12-15T13:14:57.286812Z",
     "start_time": "2024-12-15T13:14:56.050218Z"
    }
   },
   "outputs": [],
   "source": [
    "import torch\n",
    "from torch import nn\n",
    "import torch.nn.functional as F\n",
    "from torch.autograd import Variable\n",
    "from torch.utils.data import Dataset, DataLoader, random_split, Subset\n",
    "import torchaudio\n",
    "from torchaudio import transforms\n",
    "import math, copy, time, random, os\n",
    "import numpy as np\n",
    "import scipy.io as sio\n",
    "import scipy.sparse as sp\n",
    "import pandas as pd\n",
    "import itertools\n",
    "import matplotlib.pyplot as plt\n",
    "from warmup_scheduler import GradualWarmupScheduler\n",
    "from einops import rearrange\n",
    "from tqdm import tqdm\n",
    "import shutil"
   ]
  },
  {
   "cell_type": "markdown",
   "id": "4f96dda6",
   "metadata": {},
   "source": [
    "## Config"
   ]
  },
  {
   "cell_type": "code",
   "execution_count": 2,
   "id": "bc6c6851",
   "metadata": {
    "ExecuteTime": {
     "end_time": "2024-12-15T13:14:57.298380Z",
     "start_time": "2024-12-15T13:14:57.288877Z"
    }
   },
   "outputs": [],
   "source": [
    "class Config():\n",
    "    # dataloading essential\n",
    "    root = '/home/test/Desktop/python/EEG_data/AAD_dataset/AAD_DTU/Processed/Dataset'\n",
    "    file_name = 'S18_Dataset_1s.npz'\n",
    "    sample_rate = 16000\n",
    "    # encoder dim\n",
    "    EEG_encoder_dim = 256\n",
    "    Audio_encoder_dim = 256\n",
    "    # projector dim\n",
    "    Embedding_dim = 256\n",
    "    Projector_dim = 128\n",
    "    # EEG\n",
    "    num_channels = 64\n",
    "    # Audio\n",
    "    clean_audio_size = 80\n",
    "    noisy_audio_size = 80\n",
    "    # Train\n",
    "    Temperature = 0.1\n",
    "    batch_size = 8\n",
    "    device = torch.device(\"cuda\" if torch.cuda.is_available() else \"cpu\")\n",
    "    weight_decay = 1e-3\n",
    "    EEG_encoder_lr = 2e-3\n",
    "    Audio_encoder_lr = 1e-4\n",
    "    head_lr = 1e-4\n",
    "#     proj_lr = 2e-5\n",
    "    patience = 2\n",
    "    factor = 0.8\n",
    "    epochs = 60\n",
    "    dropout = 0.1"
   ]
  },
  {
   "cell_type": "markdown",
   "id": "2e1404fe",
   "metadata": {},
   "source": [
    "## Prepare Dataset"
   ]
  },
  {
   "cell_type": "code",
   "execution_count": 3,
   "id": "c0b5c406",
   "metadata": {
    "ExecuteTime": {
     "end_time": "2024-12-15T13:14:58.187604Z",
     "start_time": "2024-12-15T13:14:57.300530Z"
    }
   },
   "outputs": [],
   "source": [
    "class EEGDataset(Dataset):\n",
    "    def __init__(self, root, file_name, sample_rate=128, mode='none'):\n",
    "        self.file_path = os.path.join(root, file_name)\n",
    "        self.data = np.load(self.file_path, allow_pickle=True)\n",
    "\n",
    "        self.eeg_data = self.data['eeg_slices']\n",
    "        self.audioA_data = self.data['wavA_slices']\n",
    "        self.audioB_data = self.data['wavB_slices']\n",
    "        self.event_data = self.data['event_slices']\n",
    "        self.mode = mode\n",
    "        \n",
    "        self.noisy_data = np.concatenate((self.audioA_data, self.audioB_data), axis=1)\n",
    "\n",
    "    def __len__(self):\n",
    "        return len(self.eeg_data)\n",
    "        \n",
    "    def __getitem__(self, idx):\n",
    "        if torch.is_tensor(idx):\n",
    "            idx = idx.tolist()\n",
    "\n",
    "        eeg = self.eeg_data[idx].astype(np.float32)[:64,:]\n",
    "        eeg = torch.Tensor(eeg)\n",
    "        eeg_min,_ = torch.min(eeg, dim=1, keepdim=True)\n",
    "        eeg_max,_ = torch.max(eeg, dim=1, keepdim=True)\n",
    "        eeg = (eeg-eeg_min)/(eeg_max-eeg_min)\n",
    "        \n",
    "        noisy = self.noisy_data[idx].astype(np.float32)\n",
    "\n",
    "        event_np = self.event_data[idx]\n",
    "        event_values = []\n",
    "        for item in event_np:\n",
    "            event_values.append(item[0][0][0][0])\n",
    "        values_array = np.array(event_values, dtype=np.uint8)\n",
    "        event = torch.tensor(values_array)\n",
    "        event = event-1\n",
    "\n",
    "        clean_audio_data = (self.audioA_data[idx] if event[0] == 0 else self.audioB_data[idx]).astype(np.float32)\n",
    "        \n",
    "        clean = torch.Tensor(clean_audio_data)\n",
    "        wavA = torch.Tensor(self.audioA_data[idx].astype(np.float32))\n",
    "        wavB = torch.Tensor(self.audioB_data[idx].astype(np.float32))\n",
    "               \n",
    "        return eeg, clean, wavA, wavB, event"
   ]
  },
  {
   "cell_type": "markdown",
   "id": "542bf464",
   "metadata": {},
   "source": [
    "## Utils"
   ]
  },
  {
   "cell_type": "code",
   "execution_count": 4,
   "id": "4a7787d2",
   "metadata": {
    "ExecuteTime": {
     "end_time": "2024-12-15T13:14:58.430651Z",
     "start_time": "2024-12-15T13:14:58.189742Z"
    }
   },
   "outputs": [],
   "source": [
    "def print_size(net, keyword=None):\n",
    "    \"\"\"\n",
    "    Print the number of parameters of a network\n",
    "    \"\"\"\n",
    "\n",
    "    if net is not None and isinstance(net, torch.nn.Module):\n",
    "        module_parameters = filter(lambda p: p.requires_grad, net.parameters())\n",
    "        params = sum([np.prod(p.size()) for p in module_parameters])\n",
    "        \n",
    "        print(\"{} Parameters: {:.6f}M\".format(\n",
    "            net.__class__.__name__, params / 1e6), flush=True, end=\"; \")\n",
    "        \n",
    "        if keyword is not None:\n",
    "            keyword_parameters = [p for name, p in net.named_parameters() if p.requires_grad and keyword in name]\n",
    "            params = sum([np.prod(p.size()) for p in keyword_parameters])\n",
    "            print(\"{} Parameters: {:.6f}M\".format(\n",
    "                keyword, params / 1e6), flush=True, end=\"; \")\n",
    "        \n",
    "        print(\" \")"
   ]
  },
  {
   "cell_type": "code",
   "execution_count": 5,
   "id": "3fd6c585",
   "metadata": {
    "ExecuteTime": {
     "end_time": "2024-12-15T13:14:58.508085Z",
     "start_time": "2024-12-15T13:14:58.432625Z"
    }
   },
   "outputs": [],
   "source": [
    "class AvgMeter:\n",
    "    def __init__(self, name=\"Metric\"):\n",
    "        self.name = name\n",
    "        self.reset()\n",
    "\n",
    "    def reset(self):\n",
    "        self.avg, self.sum, self.count = [0] * 3\n",
    "\n",
    "    def update(self, val, count=1):\n",
    "        self.count += count\n",
    "        self.sum += val * count\n",
    "        self.avg = self.sum / self.count\n",
    "\n",
    "    def __repr__(self):\n",
    "        text = f\"{self.name}: {self.avg:.4f}\"\n",
    "        return text\n",
    "\n",
    "def get_lr(optimizer):\n",
    "    for param_group in optimizer.param_groups:\n",
    "        return param_group[\"lr\"]"
   ]
  },
  {
   "cell_type": "code",
   "execution_count": 6,
   "id": "dabfd930",
   "metadata": {
    "ExecuteTime": {
     "end_time": "2024-12-15T13:14:58.568839Z",
     "start_time": "2024-12-15T13:14:58.510001Z"
    }
   },
   "outputs": [],
   "source": [
    "def pre_evaluate(dataloader, model):\n",
    "    num_batches = len(dataloader)\n",
    "    model.eval()\n",
    "    test_loss, correct = 0, 0\n",
    "    with torch.no_grad():\n",
    "        for eeg, audio, wavA, wavB, event in dataloader:\n",
    "            eeg, audio = eeg.to(Config.device), audio.to(Config.device)\n",
    "            wavA = wavA.to(Config.device)\n",
    "            wavB = wavB.to(Config.device)\n",
    "            event = event.to(Config.device)\n",
    "            event = event.squeeze()\n",
    "#             print(eeg.shape, audio.shape, wavA.shape, wavB.shape)\n",
    "            _, pred = model(eeg, audio, wavA, wavB)\n",
    "            # print(pred)\n",
    "            _, predicted = torch.max(pred, 1)\n",
    "            # print(predicted)\n",
    "            correct += (predicted == event).sum().item()\n",
    "    accuracy = correct / len(dataloader.dataset)\n",
    "    return accuracy"
   ]
  },
  {
   "cell_type": "markdown",
   "id": "6ff01e6d",
   "metadata": {},
   "source": [
    "# Modle"
   ]
  },
  {
   "cell_type": "markdown",
   "id": "6afdcf95",
   "metadata": {},
   "source": [
    "## SincNet"
   ]
  },
  {
   "cell_type": "code",
   "execution_count": 7,
   "id": "b5764b19",
   "metadata": {
    "ExecuteTime": {
     "end_time": "2024-12-15T13:14:58.649704Z",
     "start_time": "2024-12-15T13:14:58.570946Z"
    },
    "code_folding": []
   },
   "outputs": [],
   "source": [
    "class SincConv_fast(nn.Module):\n",
    "    @staticmethod\n",
    "    def to_mel(hz):\n",
    "        return 2595 * np.log10(1 + hz / 700)\n",
    "\n",
    "    @staticmethod\n",
    "    def to_hz(mel):\n",
    "        return 700 * (10 ** (mel / 2595) - 1)\n",
    "\n",
    "    def __init__(self, out_channels, kernel_size, mode, low_hz = 1, sample_rate=16000, in_channels=1,\n",
    "                 stride=1, padding=0, dilation=1, bias=False, groups=1, min_low_hz=1, min_band_hz=4):\n",
    "        super(SincConv_fast,self).__init__()\n",
    "        self.out_channels = out_channels\n",
    "        self.kernel_size = kernel_size\n",
    "        # Forcing the filters to be odd (i.e, perfectly symmetrics)\n",
    "        if kernel_size%2==0:\n",
    "            self.kernel_size=self.kernel_size+1\n",
    "        self.stride = stride\n",
    "        self.padding = padding\n",
    "        self.dilation = dilation\n",
    "        self.sample_rate = sample_rate\n",
    "        self.min_low_hz = min_low_hz\n",
    "        self.min_band_hz = min_band_hz\n",
    "\n",
    "        # initialize filterbanks such that they are equally spaced in Mel scale\n",
    "        low_hz = low_hz\n",
    "        high_hz = self.sample_rate / 2 - (self.min_low_hz + self.min_band_hz)\n",
    "\n",
    "        if mode =='eeg':\n",
    "            hz = np.linspace(low_hz, high_hz, self.out_channels + 1)\n",
    "            \n",
    "        if mode =='audio':\n",
    "            mel = np.linspace(self.to_mel(low_hz),\n",
    "                              self.to_mel(high_hz),\n",
    "                              self.out_channels + 1)\n",
    "            hz = self.to_hz(mel)\n",
    "\n",
    "        # filter lower frequency (out_channels, 1)\n",
    "        self.low_hz_ = nn.Parameter(torch.Tensor(hz[:-1]).view(-1, 1))\n",
    "\n",
    "        # filter frequency band (out_channels, 1)\n",
    "        self.band_hz_ = nn.Parameter(torch.Tensor(np.diff(hz)).view(-1, 1))\n",
    "\n",
    "        # Hamming window\n",
    "        # computing only half of the window\n",
    "        n_lin=torch.linspace(0, (self.kernel_size/2)-1, steps=int((self.kernel_size/2))) \n",
    "        self.window_=0.54-0.46*torch.cos(2*math.pi*n_lin/self.kernel_size);\n",
    "\n",
    "        # (1, kernel_size/2)\n",
    "        n = (self.kernel_size - 1) / 2.0\n",
    "        # Due to symmetry, I only need half of the time axes\n",
    "        self.n_ = 2*math.pi*torch.arange(-n, 0).view(1, -1) / self.sample_rate \n",
    "\n",
    "    def forward(self, waveforms):\n",
    "        self.n_ = self.n_.to(waveforms.device)\n",
    "        self.window_ = self.window_.to(waveforms.device)\n",
    "        low = self.min_low_hz  + torch.abs(self.low_hz_)\n",
    "        high = torch.clamp(low + self.min_band_hz + torch.abs(self.band_hz_),self.min_low_hz,self.sample_rate/2)\n",
    "        band=(high-low)[:,0]\n",
    "        \n",
    "        f_times_t_low = torch.matmul(low, self.n_)\n",
    "        f_times_t_high = torch.matmul(high, self.n_)\n",
    "\n",
    "        # Equivalent of Eq.4 of the reference paper (SPEAKER RECOGNITION FROM RAW WAVEFORM WITH SINCNET). \n",
    "        # I just have expanded the sinc and simplified the terms. This way I avoid several useless computations. \n",
    "        band_pass_left=((torch.sin(f_times_t_high)-torch.sin(f_times_t_low))/(self.n_/2))*self.window_ \n",
    "        band_pass_center = 2*band.view(-1,1)\n",
    "        band_pass_right= torch.flip(band_pass_left,dims=[1])\n",
    "        band_pass=torch.cat([band_pass_left,band_pass_center,band_pass_right],dim=1)\n",
    "        band_pass = band_pass / (2*band[:,None])\n",
    "\n",
    "        self.filters = (band_pass).view(\n",
    "            self.out_channels, 1, self.kernel_size)\n",
    "\n",
    "        return F.conv1d(waveforms, self.filters, stride=self.stride,\n",
    "                        padding=self.kernel_size // 2, dilation=self.dilation,\n",
    "                         bias=None, groups=1) "
   ]
  },
  {
   "cell_type": "markdown",
   "id": "53641ab3",
   "metadata": {},
   "source": [
    "## EEGEncoder"
   ]
  },
  {
   "cell_type": "code",
   "execution_count": 8,
   "id": "9a557a08",
   "metadata": {
    "ExecuteTime": {
     "end_time": "2024-12-15T13:14:58.724514Z",
     "start_time": "2024-12-15T13:14:58.653477Z"
    }
   },
   "outputs": [],
   "source": [
    "class DepthConv1d(nn.Module):\n",
    "    def __init__(self, input_channel=1, hidden_channel=2,output_channel = 1, kernel=3, padding=1, dilation=1):\n",
    "        super(DepthConv1d, self).__init__()\n",
    "\n",
    "        self.conv1d = nn.Conv1d(input_channel, hidden_channel, 1)\n",
    "        self.padding = padding\n",
    "        self.dconv1d = nn.Conv1d(hidden_channel, hidden_channel, kernel, dilation=dilation,\n",
    "          groups=hidden_channel,\n",
    "          padding=self.padding)\n",
    "\n",
    "        self.nonlinearity1 = nn.PReLU()\n",
    "        self.nonlinearity2 = nn.PReLU()\n",
    "\n",
    "        self.reg1 = nn.GroupNorm(1, hidden_channel, eps=1e-08)\n",
    "        self.reg2 = nn.GroupNorm(1, hidden_channel, eps=1e-08)\n",
    "        self.skip_out = nn.Conv1d(hidden_channel, output_channel, 1)\n",
    "\n",
    "    def forward(self, input):\n",
    "        output = self.reg1(self.nonlinearity1(self.conv1d(input)))\n",
    "        output = self.reg2(self.nonlinearity2(self.dconv1d(output)))\n",
    "        skip = self.skip_out(output)\n",
    "        return skip"
   ]
  },
  {
   "cell_type": "code",
   "execution_count": 9,
   "id": "9e69b370",
   "metadata": {
    "ExecuteTime": {
     "end_time": "2024-12-15T13:14:58.802605Z",
     "start_time": "2024-12-15T13:14:58.726275Z"
    }
   },
   "outputs": [],
   "source": [
    "class EEGEncoder(nn.Module):\n",
    "    def __init__(self, input_channel=64,hidden_channel = 8,output_channel = 1, sample_rate=128):\n",
    "        super(EEGEncoder, self).__init__()\n",
    "\n",
    "        self.sinc_conv = SincConv_fast(out_channels=hidden_channel,mode ='eeg', low_hz = 1, kernel_size=31,\n",
    "                                       sample_rate=sample_rate,min_low_hz=1, min_band_hz=4)\n",
    "        \n",
    "        self.depth_conv = DepthConv1d(input_channel=input_channel,output_channel = output_channel,\n",
    "                                      hidden_channel=32, kernel=3, padding=1, dilation=1)\n",
    "\n",
    "        self.fc = nn.Sequential(\n",
    "            nn.Linear(hidden_channel*sample_rate, 256)  # 根据最终特征图大小调整\n",
    "        )\n",
    "        self.hidden_channel = hidden_channel\n",
    "        self.sample_rate = sample_rate\n",
    "        \n",
    "    def forward(self, x):\n",
    "        batch_size, input_channel, num_samples = x.size()\n",
    "\n",
    "        # Apply SincConv to each channel independently\n",
    "        sinc_out = []\n",
    "        for i in range(input_channel):\n",
    "            channel_data = x[:, i:i+1, :]  # Select single channel\n",
    "            sinc_out.append(self.sinc_conv(channel_data))\n",
    "\n",
    "        sinc_out = torch.stack(sinc_out, dim=1)  # Shape: [batch_size, input_channel, out_channels, output_length]\n",
    "        sinc_out = sinc_out.view(batch_size, 64, self.hidden_channel*self.sample_rate)  # Reshape to [batch_size, 1, out_channels, length]\n",
    "        out = self.depth_conv(sinc_out)\n",
    "        out_fc = self.fc(out).squeeze()\n",
    "        return out_fc# sinc_out, "
   ]
  },
  {
   "cell_type": "code",
   "execution_count": 10,
   "id": "6adb4f86",
   "metadata": {
    "ExecuteTime": {
     "end_time": "2024-12-15T13:14:58.878664Z",
     "start_time": "2024-12-15T13:14:58.804708Z"
    }
   },
   "outputs": [],
   "source": [
    "# # example of use EEGEncoder\n",
    "# eeg_net = EEGEncoder(input_channel=64,hidden_channel = 60)  # 假设有2个类别\n",
    "# input_data = torch.randn(10, 64, 128)  # 模拟输入数据\n",
    "# output = eeg_net(input_data)\n",
    "# print(\"Output shape:\", output.shape)\n",
    "# print_size(eeg_net)"
   ]
  },
  {
   "cell_type": "markdown",
   "id": "0da7049e",
   "metadata": {},
   "source": [
    "## AudioEncoder"
   ]
  },
  {
   "cell_type": "code",
   "execution_count": 11,
   "id": "9d52e680",
   "metadata": {
    "ExecuteTime": {
     "end_time": "2024-12-15T13:14:58.946064Z",
     "start_time": "2024-12-15T13:14:58.880503Z"
    }
   },
   "outputs": [],
   "source": [
    "class AudioEncoder(nn.Module):\n",
    "    def __init__(self, input_channel=1,out_channels=160,low_hz=30, sample_rate=16000):\n",
    "        super(AudioEncoder, self).__init__()\n",
    "        self.sinc_conv = SincConv_fast(out_channels=out_channels,mode ='eeg',low_hz = low_hz, kernel_size=101,\n",
    "                                       sample_rate=sample_rate,min_low_hz=50, min_band_hz=50)\n",
    "\n",
    "        self.depth_conv = DepthConv1d(input_channel=out_channels,output_channel = input_channel,\n",
    "                                      hidden_channel=32, kernel=3, padding=1, dilation=1)\n",
    "        \n",
    "        # Use fewer convolutional layers with larger strides to reduce dimensionality\n",
    "        self.conv = nn.Sequential(\n",
    "            nn.Conv1d(1, 64, kernel_size=3, stride=4, padding=1),  # torch.Size([10, 64, 4000])\n",
    "            nn.PReLU(),\n",
    "            nn.Conv1d(64, 128, kernel_size=3, stride=4, padding=1),  # torch.Size([10, 128, 1000])\n",
    "            nn.PReLU(),\n",
    "            nn.Conv1d(128, 256, kernel_size=3, stride=4, padding=1),  # torch.Size([10, 256, 500])\n",
    "            nn.PReLU(),\n",
    "            nn.AdaptiveAvgPool1d(1)  # Global average pooling  torch.Size([10, 256])\n",
    "        )\n",
    "\n",
    "    def forward(self, input):\n",
    "#         print(\"AudioEncoder input shape:\", input.shape) \n",
    "        sinc_out = self.sinc_conv(input)\n",
    "        out = self.depth_conv(sinc_out)\n",
    "        out = self.conv(out).squeeze(-1)  # Squeeze last dimension to get shape [batch_size, 256]\n",
    "        return out"
   ]
  },
  {
   "cell_type": "code",
   "execution_count": 12,
   "id": "a5c35d64",
   "metadata": {
    "ExecuteTime": {
     "end_time": "2024-12-15T13:14:59.035940Z",
     "start_time": "2024-12-15T13:14:58.947718Z"
    }
   },
   "outputs": [],
   "source": [
    "# # example of use AudioEncoder\n",
    "# batch_size = 10\n",
    "# input_length = 16000  # 一秒钟的音频数据长度\n",
    "# input_channel = 1\n",
    "\n",
    "# input_data = torch.randn(batch_size, input_channel, input_length)\n",
    "# Audiomodel = AudioEncoder(input_channel=input_channel, out_channels=160, sample_rate=16000)\n",
    "# output = Audiomodel(input_data)\n",
    "\n",
    "# print(output.shape)  # torch.Size([10, 256])\n",
    "# print_size(Audiomodel)"
   ]
  },
  {
   "cell_type": "markdown",
   "id": "52882c7c",
   "metadata": {},
   "source": [
    "## Projector"
   ]
  },
  {
   "cell_type": "code",
   "execution_count": 13,
   "id": "fd6fbfa8",
   "metadata": {
    "ExecuteTime": {
     "end_time": "2024-12-15T13:14:59.106724Z",
     "start_time": "2024-12-15T13:14:59.037643Z"
    }
   },
   "outputs": [],
   "source": [
    "class Projector(nn.Module):\n",
    "    def __init__(\n",
    "        self,\n",
    "        embedding_dim=Config.Embedding_dim,\n",
    "        projection_dim=Config.Projector_dim,\n",
    "        dropout=Config.dropout\n",
    "    ):\n",
    "        super().__init__()\n",
    "        self.projection = nn.Linear(embedding_dim, projection_dim)\n",
    "        self.gelu = nn.GELU()\n",
    "        self.fc = nn.Linear(projection_dim, projection_dim)\n",
    "        self.dropout = nn.Dropout(dropout)\n",
    "        self.layer_norm = nn.LayerNorm(projection_dim)\n",
    "    \n",
    "    def forward(self, x):\n",
    "        projected = self.projection(x)\n",
    "        x = self.gelu(projected)\n",
    "        x = self.fc(x)\n",
    "        x = self.dropout(x)\n",
    "        x = x + projected\n",
    "        x = self.layer_norm(x)\n",
    "        # (B,128)\n",
    "        return x"
   ]
  },
  {
   "cell_type": "markdown",
   "id": "518dfe05",
   "metadata": {},
   "source": [
    "## Contrastive Learning"
   ]
  },
  {
   "cell_type": "code",
   "execution_count": 14,
   "id": "7e2295c6",
   "metadata": {
    "ExecuteTime": {
     "end_time": "2024-12-15T13:14:59.202390Z",
     "start_time": "2024-12-15T13:14:59.108534Z"
    }
   },
   "outputs": [],
   "source": [
    "def cross_entropy(preds, targets, reduction='none'):\n",
    "    log_softmax = nn.LogSoftmax(dim=-1)\n",
    "    loss = (-targets * log_softmax(preds)).sum(1)\n",
    "    if reduction == \"none\":\n",
    "        return loss\n",
    "    elif reduction == \"mean\":\n",
    "        return loss.mean()\n",
    "    \n",
    "class CLIPModel(nn.Module):\n",
    "    def __init__(\n",
    "            self,\n",
    "            temperature=Config.Temperature,\n",
    "            EEG_Embedding=Config.Embedding_dim,\n",
    "            Audio_Embedding=Config.Embedding_dim,\n",
    "    ):\n",
    "        super().__init__()\n",
    "\n",
    "        self.eeg_encoder = EEGEncoder(input_channel=64,hidden_channel = 60)\n",
    "        self.audio_encoder = AudioEncoder(out_channels=320,low_hz=100)\n",
    "        self.eeg_projector = Projector(EEG_Embedding)\n",
    "        self.audio_projector = Projector(Audio_Embedding)\n",
    "        self.temperature = temperature\n",
    "\n",
    "    def forward(self, eeg, clean, wavA, wavB):\n",
    "        # 特征提取\n",
    "        EEG_features = self.eeg_encoder(eeg)\n",
    "        Audio_features = self.audio_encoder(clean)\n",
    "        wavA_features = self.audio_encoder(wavA)\n",
    "        wavB_features = self.audio_encoder(wavB)\n",
    "\n",
    "        # 对比学习编码\n",
    "        EEG_embeddings = self.eeg_projector(EEG_features)\n",
    "        Audio_embeddings = self.audio_projector(Audio_features)\n",
    "        \n",
    "        # 对比学习loss\n",
    "        logits = (Audio_embeddings @ EEG_embeddings.T) / self.temperature\n",
    "        EEG_similarity = EEG_embeddings @ EEG_embeddings.T\n",
    "        Audio_similarity = Audio_embeddings @ Audio_embeddings.T\n",
    "        targets = F.softmax(\n",
    "            (EEG_similarity + Audio_similarity) / 2 * self.temperature, dim=-1\n",
    "        )\n",
    "        audio_loss = cross_entropy(logits, targets, reduction='none')\n",
    "        eeg_loss = cross_entropy(logits.T, targets.T, reduction='none')\n",
    "        loss =  (eeg_loss + audio_loss) / 2.0 # shape: (batch_size)\n",
    "        \n",
    "        #相似度计算\n",
    "        similarity_1 = self.calculate_similarity(EEG_features, wavA_features)\n",
    "        similarity_2 = self.calculate_similarity(EEG_features, wavB_features)\n",
    "        sim = torch.stack([similarity_1, similarity_2], dim=1)\n",
    "        \n",
    "        return loss.mean(), sim\n",
    "\n",
    "    def calculate_similarity(self, features1, features2):\n",
    "        similarity = F.cosine_similarity(features1, features2, dim=-1)\n",
    "#         similarity = -torch.norm(features1 - features2, p=2, dim=-1)\n",
    "        return similarity"
   ]
  },
  {
   "cell_type": "markdown",
   "id": "bdae01a2",
   "metadata": {},
   "source": [
    "# Dataloader"
   ]
  },
  {
   "cell_type": "markdown",
   "id": "d2c8abd4",
   "metadata": {},
   "source": [
    "## Randsplit"
   ]
  },
  {
   "cell_type": "code",
   "execution_count": 15,
   "id": "0d119458",
   "metadata": {
    "ExecuteTime": {
     "end_time": "2024-12-15T13:14:59.296936Z",
     "start_time": "2024-12-15T13:14:59.204097Z"
    }
   },
   "outputs": [],
   "source": [
    "def collate_fn(item):\n",
    "    eeg, lfcc_clean, lfcc_wavA, lfcc_wavB, event = zip(*item)\n",
    "    return torch.stack(eeg), torch.stack(lfcc_clean), torch.stack(lfcc_wavA), torch.stack(lfcc_wavB), torch.stack(event)\n",
    "\n",
    "def load_Dataset_shuffle(root, file_name, sample_rate, batch_size):\n",
    "    TotalDataset = EEGDataset(root, file_name, sample_rate)\n",
    "    total_len = len(TotalDataset)\n",
    "    train_len = int(total_len*0.8)\n",
    "    val_len = int(total_len*0.2)\n",
    "    \n",
    "    Train_dataset, Valid_dataset = random_split(TotalDataset, [train_len, val_len])\n",
    "    \n",
    "    kwargs = {\"batch_size\": batch_size, \"num_workers\": 4, \"pin_memory\": False, \"drop_last\": False}\n",
    "    Train_dataloader = DataLoader(Train_dataset, collate_fn=collate_fn, shuffle=True, **kwargs)\n",
    "    Valid_dataloader = DataLoader(Valid_dataset, collate_fn=collate_fn, shuffle=True, **kwargs)\n",
    "    \n",
    "    return Train_dataloader, Valid_dataloader"
   ]
  },
  {
   "cell_type": "markdown",
   "id": "599d3ab6",
   "metadata": {},
   "source": [
    "## Cross trails"
   ]
  },
  {
   "cell_type": "code",
   "execution_count": 16,
   "id": "5c463c72",
   "metadata": {
    "ExecuteTime": {
     "end_time": "2024-12-15T13:14:59.368183Z",
     "start_time": "2024-12-15T13:14:59.298913Z"
    }
   },
   "outputs": [],
   "source": [
    "def Dataset_cross_trails(root, file_name, sample_rate, batch_size):\n",
    "    TotalDataset = EEGDataset(root, file_name, sample_rate)\n",
    "    total_len = len(TotalDataset)\n",
    "    \n",
    "    # 计算训练集和验证集的长度\n",
    "    train_len = int(total_len * 0.8)\n",
    "    val_len = total_len - train_len  # 直接计算验证集长度\n",
    "    \n",
    "    # 使用索引确定训练集和验证集\n",
    "    train_indices = list(range(train_len))\n",
    "    val_indices = list(range(train_len, total_len))\n",
    "    \n",
    "    Train_dataset = Subset(TotalDataset, train_indices)\n",
    "    Valid_dataset = Subset(TotalDataset, val_indices)\n",
    "    \n",
    "    kwargs = {\"batch_size\": batch_size, \"num_workers\": 4, \"pin_memory\": False, \"drop_last\": False}\n",
    "    Train_dataloader = DataLoader(Train_dataset, collate_fn=collate_fn, shuffle=True, **kwargs)\n",
    "    Valid_dataloader = DataLoader(Valid_dataset, collate_fn=collate_fn, shuffle=True, **kwargs)\n",
    "    \n",
    "    return Train_dataloader, Valid_dataloader\n"
   ]
  },
  {
   "cell_type": "markdown",
   "id": "2fbb3737",
   "metadata": {},
   "source": [
    "# Pretrain"
   ]
  },
  {
   "cell_type": "markdown",
   "id": "96304c2b",
   "metadata": {},
   "source": [
    "## Train epoch"
   ]
  },
  {
   "cell_type": "code",
   "execution_count": 17,
   "id": "f839302b",
   "metadata": {
    "ExecuteTime": {
     "end_time": "2024-12-15T13:14:59.463801Z",
     "start_time": "2024-12-15T13:14:59.370158Z"
    }
   },
   "outputs": [],
   "source": [
    "def preTrain_epoch(model, train_loader, optimizer, lr_scheduler, step):\n",
    "    loss_meter = AvgMeter()\n",
    "    tqdm_object = tqdm(train_loader, total=len(train_loader))\n",
    "    criterion = nn.CrossEntropyLoss()\n",
    "    # print(tqdm_object)\n",
    "    for eeg, audio, wavA, wavB, event in tqdm_object:\n",
    "        eeg = eeg.to(Config.device)\n",
    "        audio = audio.to(Config.device)\n",
    "        wavA = wavA.to(Config.device)\n",
    "        wavB = wavB.to(Config.device)\n",
    "        event = event.to(Config.device).squeeze()\n",
    "        loss_1, result = model(eeg, audio, wavA, wavB)\n",
    "        loss_2 = criterion(result, event)\n",
    "        loss = loss_1/100+loss_2\n",
    "        optimizer.zero_grad()\n",
    "        loss.backward()\n",
    "        optimizer.step()\n",
    "\n",
    "        count = eeg.size(0)\n",
    "        loss_meter.update(loss.item(), count)\n",
    "\n",
    "        tqdm_object.set_postfix(train_loss=loss_meter.avg, lr=get_lr(optimizer))\n",
    "    return loss_meter\n",
    "\n",
    "def preVal_epoch(model, valid_loader):\n",
    "    loss_meter = AvgMeter()\n",
    "    criterion = nn.CrossEntropyLoss()\n",
    "\n",
    "    tqdm_object = tqdm(valid_loader, total=len(valid_loader))\n",
    "    for eeg, audio, wavA, wavB, event in tqdm_object:\n",
    "        eeg = eeg.to(Config.device)\n",
    "        audio = audio.to(Config.device)\n",
    "        wavA = wavA.to(Config.device)\n",
    "        wavB = wavB.to(Config.device)\n",
    "        event = event.to(Config.device).squeeze()\n",
    "        loss_1, result = model(eeg, audio, wavA, wavB)\n",
    "        loss_2 = criterion(result, event)\n",
    "        loss = loss_1/100+loss_2\n",
    "\n",
    "        count = eeg.size(0)\n",
    "        loss_meter.update(loss.item(), count)\n",
    "\n",
    "        tqdm_object.set_postfix(valid_loss=loss_meter.avg)\n",
    "    return loss_meter"
   ]
  },
  {
   "cell_type": "markdown",
   "id": "1e5ac252",
   "metadata": {},
   "source": [
    "## train_and_save_model"
   ]
  },
  {
   "cell_type": "code",
   "execution_count": 18,
   "id": "cd1896ab",
   "metadata": {
    "ExecuteTime": {
     "end_time": "2024-12-15T13:14:59.559511Z",
     "start_time": "2024-12-15T13:14:59.465918Z"
    }
   },
   "outputs": [],
   "source": [
    "def train_and_save_model(config):\n",
    "    # 数据加载\n",
    "    train_dataloader, valid_dataloader = Dataset_cross_trails(config.root, config.file_name, config.sample_rate, config.batch_size)\n",
    "\n",
    "    # 定义保存模型的主子文件夹名称\n",
    "    save_dir = \"Cross_trails\"\n",
    "\n",
    "    # 从 config.file_name 中提取下划线前面的部分作为新的子文件夹名称\n",
    "    sub_dir_name = config.file_name.split('_')[0]\n",
    "\n",
    "    # 构建最终保存路径\n",
    "    final_save_dir = os.path.join(save_dir, sub_dir_name)\n",
    "\n",
    "    # 如果最终的子文件夹不存在，创建它\n",
    "    if not os.path.exists(final_save_dir):\n",
    "        os.makedirs(final_save_dir)\n",
    "\n",
    "    # 初始化模型\n",
    "    model = CLIPModel().to(config.device)\n",
    "\n",
    "    # 定义优化器和学习率调度器\n",
    "    params = [\n",
    "        {\"params\": model.eeg_encoder.parameters(), \"lr\": config.EEG_encoder_lr},\n",
    "        {\"params\": model.audio_encoder.parameters(), \"lr\": config.Audio_encoder_lr},\n",
    "        {\"params\": itertools.chain(\n",
    "            model.eeg_projector.parameters(), model.audio_projector.parameters()\n",
    "        ), \"lr\": config.head_lr, \"weight_decay\": config.weight_decay}\n",
    "    ]\n",
    "    optimizer = torch.optim.AdamW(params, weight_decay=0.)\n",
    "    lr_scheduler = torch.optim.lr_scheduler.ReduceLROnPlateau(\n",
    "        optimizer, mode=\"min\", patience=config.patience, factor=config.factor\n",
    "    )\n",
    "    step = \"epoch\"\n",
    "\n",
    "    best_loss = float('inf')\n",
    "    acc_max = 0\n",
    "\n",
    "    # 训练循环\n",
    "    for epoch in range(config.epochs):\n",
    "        print(f\"Epoch: {epoch + 1}\")\n",
    "        model.train()\n",
    "        train_loss = preTrain_epoch(model, train_dataloader, optimizer, lr_scheduler, step)\n",
    "        model.eval()\n",
    "        with torch.no_grad():\n",
    "            train_acc = pre_evaluate(train_dataloader, model)\n",
    "            print(f\"train accuracy: {train_acc:.6f}\")\n",
    "            valid_loss = preVal_epoch(model, valid_dataloader)\n",
    "            val_acc = pre_evaluate(valid_dataloader, model)\n",
    "            print(f\"valid accuracy: {val_acc:.6f}\")\n",
    "\n",
    "            # 检查当前的验证准确率是否超过了最大值\n",
    "            if val_acc > acc_max:\n",
    "                acc_max = val_acc\n",
    "                # 构建文件路径，保存到子文件夹中\n",
    "                model_filename = f\"{epoch + 1}_best.pt\"\n",
    "                save_path = os.path.join(final_save_dir, model_filename)\n",
    "                torch.save(model.state_dict(), save_path)\n",
    "                print(f\"Saved Best Model as {save_path}!\")\n",
    "\n",
    "        lr_scheduler.step(valid_loss.avg)\n",
    "    \n",
    "    # 打印模型大小和最大准确率\n",
    "    print_size(model)\n",
    "    print(f\"Final accuracy max for {config.file_name}: {acc_max:.3f}\")\n",
    "\n",
    "    # 查找并重命名最佳模型文件\n",
    "    best_model_files = [f for f in os.listdir(final_save_dir) if f.endswith('_best.pt')]\n",
    "    best_epoch = max(int(f.split('_')[0]) for f in best_model_files)\n",
    "    best_model_filename = f\"{best_epoch}_best.pt\"\n",
    "    best_model_path = os.path.join(final_save_dir, best_model_filename)\n",
    "\n",
    "    # 目标文件名为 'cross_trails_s18_best.pt'\n",
    "    new_filename = f\"cross_trails_{sub_dir_name.lower()}_best.pt\"\n",
    "    new_file_path = os.path.join(final_save_dir, new_filename)\n",
    "\n",
    "    # 复制并重命名文件\n",
    "    shutil.copy(best_model_path, new_file_path)\n",
    "    print(f\"Copied and renamed {best_model_filename} to {new_filename}\")\n",
    "    \n",
    "    # 返回最高准确率和文件夹名字\n",
    "    return sub_dir_name, acc_max"
   ]
  },
  {
   "cell_type": "code",
   "execution_count": 19,
   "id": "9aa5fd8a",
   "metadata": {
    "ExecuteTime": {
     "end_time": "2024-12-15T13:14:59.653415Z",
     "start_time": "2024-12-15T13:14:59.561474Z"
    }
   },
   "outputs": [],
   "source": [
    "def run_all_files_in_directory(config):\n",
    "    # 获取目录下的所有文件\n",
    "    files = [f for f in os.listdir(config.root) if os.path.isfile(os.path.join(config.root, f))]\n",
    "    \n",
    "    # 按照文件名中的数字排序，从小到大\n",
    "    files.sort(key=lambda x: int(x.split('_')[0][1:]))\n",
    "    \n",
    "    # 用于存储文件夹名字和最高准确率的字典\n",
    "    results = {}\n",
    "    \n",
    "    # 依次处理每个文件并保存最高准确率到字典\n",
    "    for file_name in files:\n",
    "        config.file_name = file_name  # 设置当前的文件名\n",
    "        print(f\"Processing file: {config.file_name}\")\n",
    "        folder_name, max_acc = train_and_save_model(config)  # 处理当前文件\n",
    "        results[folder_name] = max_acc  # 保存到字典中\n",
    "\n",
    "    # 输出每个文件夹对应的最高准确率\n",
    "    for folder, acc in results.items():\n",
    "        print(f\"Folder: {folder}, Max Accuracy: {acc:.3f}\")\n",
    "    \n",
    "    return results"
   ]
  },
  {
   "cell_type": "markdown",
   "id": "40349e85",
   "metadata": {},
   "source": [
    "## 选择部分被试"
   ]
  },
  {
   "cell_type": "code",
   "execution_count": 20,
   "id": "e1b231c0",
   "metadata": {
    "ExecuteTime": {
     "end_time": "2024-12-15T13:14:59.943185Z",
     "start_time": "2024-12-15T13:14:59.655220Z"
    }
   },
   "outputs": [],
   "source": [
    "def run_subject_arrange(config, start_subject=None, end_subject=None):\n",
    "    # 获取目录下的所有文件\n",
    "    files = [f for f in os.listdir(config.root) if os.path.isfile(os.path.join(config.root, f))]\n",
    "    \n",
    "    # 按照文件名中的数字排序，从小到大\n",
    "    files.sort(key=lambda x: int(x.split('_')[0][1:]))\n",
    "    \n",
    "    # 用于存储文件夹名字和最高准确率的字典\n",
    "    results = {}\n",
    "\n",
    "    # 根据指定的被试范围过滤文件\n",
    "    if start_subject is not None or end_subject is not None:\n",
    "        filtered_files = []\n",
    "        for file_name in files:\n",
    "            subject_number = int(file_name.split('_')[0][1:])\n",
    "            if (start_subject is None or subject_number >= start_subject) and \\\n",
    "               (end_subject is None or subject_number <= end_subject):\n",
    "                filtered_files.append(file_name)\n",
    "        files = filtered_files\n",
    "    \n",
    "    # 依次处理每个文件并保存最高准确率到字典\n",
    "    for file_name in files:\n",
    "        config.file_name = file_name  # 设置当前的文件名\n",
    "        print(f\"Processing file: {config.file_name}\")\n",
    "        folder_name, max_acc = train_and_save_model(config)  # 处理当前文件\n",
    "        results[folder_name] = max_acc  # 保存到字典中\n",
    "\n",
    "    # 输出每个文件夹对应的最高准确率\n",
    "    for folder, acc in results.items():\n",
    "        print(f\"Folder: {folder}, Max Accuracy: {acc:.3f}\")\n",
    "    \n",
    "    return results"
   ]
  },
  {
   "cell_type": "code",
   "execution_count": 21,
   "id": "bc41fb2f",
   "metadata": {
    "ExecuteTime": {
     "end_time": "2024-12-15T16:07:48.985871Z",
     "start_time": "2024-12-15T13:14:59.944884Z"
    },
    "scrolled": true
   },
   "outputs": [
    {
     "name": "stdout",
     "output_type": "stream",
     "text": [
      "Processing file: S1_Dataset_1s.npz\n",
      "Epoch: 1\n"
     ]
    },
    {
     "name": "stderr",
     "output_type": "stream",
     "text": [
      "100%|██████████| 300/300 [00:29<00:00, 10.20it/s, lr=0.002, train_loss=0.782]\n"
     ]
    },
    {
     "name": "stdout",
     "output_type": "stream",
     "text": [
      "train accuracy: 0.525417\n"
     ]
    },
    {
     "name": "stderr",
     "output_type": "stream",
     "text": [
      "100%|██████████| 75/75 [00:01<00:00, 41.71it/s, valid_loss=0.714]\n"
     ]
    },
    {
     "name": "stdout",
     "output_type": "stream",
     "text": [
      "valid accuracy: 0.496667\n",
      "Saved Best Model as Cross_trails/S1/1_best.pt!\n",
      "Epoch: 2\n"
     ]
    },
    {
     "name": "stderr",
     "output_type": "stream",
     "text": [
      "100%|██████████| 300/300 [00:23<00:00, 12.68it/s, lr=0.002, train_loss=0.716]\n"
     ]
    },
    {
     "name": "stdout",
     "output_type": "stream",
     "text": [
      "train accuracy: 0.500417\n"
     ]
    },
    {
     "name": "stderr",
     "output_type": "stream",
     "text": [
      "100%|██████████| 75/75 [00:01<00:00, 39.86it/s, valid_loss=0.714]\n"
     ]
    },
    {
     "name": "stdout",
     "output_type": "stream",
     "text": [
      "valid accuracy: 0.451667\n",
      "Epoch: 3\n"
     ]
    },
    {
     "name": "stderr",
     "output_type": "stream",
     "text": [
      "100%|██████████| 300/300 [00:17<00:00, 17.31it/s, lr=0.002, train_loss=0.714]\n"
     ]
    },
    {
     "name": "stdout",
     "output_type": "stream",
     "text": [
      "train accuracy: 0.596250\n"
     ]
    },
    {
     "name": "stderr",
     "output_type": "stream",
     "text": [
      "100%|██████████| 75/75 [00:01<00:00, 40.16it/s, valid_loss=0.714]\n"
     ]
    },
    {
     "name": "stdout",
     "output_type": "stream",
     "text": [
      "valid accuracy: 0.556667\n",
      "Saved Best Model as Cross_trails/S1/3_best.pt!\n",
      "Epoch: 4\n"
     ]
    },
    {
     "name": "stderr",
     "output_type": "stream",
     "text": [
      "100%|██████████| 300/300 [00:17<00:00, 16.80it/s, lr=0.002, train_loss=0.715]\n"
     ]
    },
    {
     "name": "stdout",
     "output_type": "stream",
     "text": [
      "train accuracy: 0.590000\n"
     ]
    },
    {
     "name": "stderr",
     "output_type": "stream",
     "text": [
      "100%|██████████| 75/75 [00:03<00:00, 19.58it/s, valid_loss=0.714]\n"
     ]
    },
    {
     "name": "stdout",
     "output_type": "stream",
     "text": [
      "valid accuracy: 0.528333\n",
      "Epoch: 5\n"
     ]
    },
    {
     "name": "stderr",
     "output_type": "stream",
     "text": [
      "100%|██████████| 300/300 [00:17<00:00, 16.92it/s, lr=0.002, train_loss=0.715]\n"
     ]
    },
    {
     "name": "stdout",
     "output_type": "stream",
     "text": [
      "train accuracy: 0.594583\n"
     ]
    },
    {
     "name": "stderr",
     "output_type": "stream",
     "text": [
      "100%|██████████| 75/75 [00:03<00:00, 19.61it/s, valid_loss=0.714]\n"
     ]
    },
    {
     "name": "stdout",
     "output_type": "stream",
     "text": [
      "valid accuracy: 0.555000\n",
      "Epoch: 6\n"
     ]
    },
    {
     "name": "stderr",
     "output_type": "stream",
     "text": [
      "100%|██████████| 300/300 [00:28<00:00, 10.57it/s, lr=0.0016, train_loss=0.715]\n"
     ]
    },
    {
     "name": "stdout",
     "output_type": "stream",
     "text": [
      "train accuracy: 0.614583\n"
     ]
    },
    {
     "name": "stderr",
     "output_type": "stream",
     "text": [
      "100%|██████████| 75/75 [00:01<00:00, 39.54it/s, valid_loss=0.714]\n"
     ]
    },
    {
     "name": "stdout",
     "output_type": "stream",
     "text": [
      "valid accuracy: 0.573333\n",
      "Saved Best Model as Cross_trails/S1/6_best.pt!\n",
      "Epoch: 7\n"
     ]
    },
    {
     "name": "stderr",
     "output_type": "stream",
     "text": [
      "100%|██████████| 300/300 [00:28<00:00, 10.49it/s, lr=0.0016, train_loss=0.714]\n"
     ]
    },
    {
     "name": "stdout",
     "output_type": "stream",
     "text": [
      "train accuracy: 0.613750\n"
     ]
    },
    {
     "name": "stderr",
     "output_type": "stream",
     "text": [
      "100%|██████████| 75/75 [00:01<00:00, 40.24it/s, valid_loss=0.714]\n"
     ]
    },
    {
     "name": "stdout",
     "output_type": "stream",
     "text": [
      "valid accuracy: 0.576667\n",
      "Saved Best Model as Cross_trails/S1/7_best.pt!\n",
      "Epoch: 8\n"
     ]
    },
    {
     "name": "stderr",
     "output_type": "stream",
     "text": [
      "100%|██████████| 300/300 [00:17<00:00, 17.20it/s, lr=0.0016, train_loss=0.714]\n"
     ]
    },
    {
     "name": "stdout",
     "output_type": "stream",
     "text": [
      "train accuracy: 0.630833\n"
     ]
    },
    {
     "name": "stderr",
     "output_type": "stream",
     "text": [
      "100%|██████████| 75/75 [00:03<00:00, 19.68it/s, valid_loss=0.714]\n"
     ]
    },
    {
     "name": "stdout",
     "output_type": "stream",
     "text": [
      "valid accuracy: 0.598333\n",
      "Saved Best Model as Cross_trails/S1/8_best.pt!\n",
      "Epoch: 9\n"
     ]
    },
    {
     "name": "stderr",
     "output_type": "stream",
     "text": [
      "100%|██████████| 300/300 [00:17<00:00, 16.96it/s, lr=0.00128, train_loss=0.714]\n"
     ]
    },
    {
     "name": "stdout",
     "output_type": "stream",
     "text": [
      "train accuracy: 0.636250\n"
     ]
    },
    {
     "name": "stderr",
     "output_type": "stream",
     "text": [
      "100%|██████████| 75/75 [00:01<00:00, 38.89it/s, valid_loss=0.714]\n"
     ]
    },
    {
     "name": "stdout",
     "output_type": "stream",
     "text": [
      "valid accuracy: 0.600000\n",
      "Saved Best Model as Cross_trails/S1/9_best.pt!\n",
      "Epoch: 10\n"
     ]
    },
    {
     "name": "stderr",
     "output_type": "stream",
     "text": [
      "100%|██████████| 300/300 [00:26<00:00, 11.24it/s, lr=0.00128, train_loss=0.714]\n"
     ]
    },
    {
     "name": "stdout",
     "output_type": "stream",
     "text": [
      "train accuracy: 0.634583\n"
     ]
    },
    {
     "name": "stderr",
     "output_type": "stream",
     "text": [
      "100%|██████████| 75/75 [00:01<00:00, 40.33it/s, valid_loss=0.714]\n"
     ]
    },
    {
     "name": "stdout",
     "output_type": "stream",
     "text": [
      "valid accuracy: 0.590000\n",
      "Epoch: 11\n"
     ]
    },
    {
     "name": "stderr",
     "output_type": "stream",
     "text": [
      "100%|██████████| 300/300 [00:17<00:00, 17.08it/s, lr=0.00128, train_loss=0.715]\n"
     ]
    },
    {
     "name": "stdout",
     "output_type": "stream",
     "text": [
      "train accuracy: 0.646250\n"
     ]
    },
    {
     "name": "stderr",
     "output_type": "stream",
     "text": [
      "100%|██████████| 75/75 [00:01<00:00, 41.08it/s, valid_loss=0.714]\n"
     ]
    },
    {
     "name": "stdout",
     "output_type": "stream",
     "text": [
      "valid accuracy: 0.608333\n",
      "Saved Best Model as Cross_trails/S1/11_best.pt!\n",
      "Epoch: 12\n"
     ]
    },
    {
     "name": "stderr",
     "output_type": "stream",
     "text": [
      "100%|██████████| 300/300 [00:27<00:00, 10.81it/s, lr=0.00102, train_loss=0.714]\n"
     ]
    },
    {
     "name": "stdout",
     "output_type": "stream",
     "text": [
      "train accuracy: 0.645417\n"
     ]
    },
    {
     "name": "stderr",
     "output_type": "stream",
     "text": [
      "100%|██████████| 75/75 [00:03<00:00, 19.48it/s, valid_loss=0.714]\n"
     ]
    },
    {
     "name": "stdout",
     "output_type": "stream",
     "text": [
      "valid accuracy: 0.605000\n",
      "Epoch: 13\n"
     ]
    },
    {
     "name": "stderr",
     "output_type": "stream",
     "text": [
      "100%|██████████| 300/300 [00:18<00:00, 16.37it/s, lr=0.00102, train_loss=0.713]\n"
     ]
    },
    {
     "name": "stdout",
     "output_type": "stream",
     "text": [
      "train accuracy: 0.645000\n"
     ]
    },
    {
     "name": "stderr",
     "output_type": "stream",
     "text": [
      "100%|██████████| 75/75 [00:01<00:00, 40.46it/s, valid_loss=0.712]\n"
     ]
    },
    {
     "name": "stdout",
     "output_type": "stream",
     "text": [
      "valid accuracy: 0.618333\n",
      "Saved Best Model as Cross_trails/S1/13_best.pt!\n",
      "Epoch: 14\n"
     ]
    },
    {
     "name": "stderr",
     "output_type": "stream",
     "text": [
      "100%|██████████| 300/300 [00:29<00:00, 10.22it/s, lr=0.00102, train_loss=0.689]\n"
     ]
    },
    {
     "name": "stdout",
     "output_type": "stream",
     "text": [
      "train accuracy: 0.702083\n"
     ]
    },
    {
     "name": "stderr",
     "output_type": "stream",
     "text": [
      "100%|██████████| 75/75 [00:01<00:00, 38.93it/s, valid_loss=0.635]\n"
     ]
    },
    {
     "name": "stdout",
     "output_type": "stream",
     "text": [
      "valid accuracy: 0.691667\n",
      "Saved Best Model as Cross_trails/S1/14_best.pt!\n",
      "Epoch: 15\n"
     ]
    },
    {
     "name": "stderr",
     "output_type": "stream",
     "text": [
      "100%|██████████| 300/300 [00:29<00:00, 10.23it/s, lr=0.00102, train_loss=0.598]\n"
     ]
    },
    {
     "name": "stdout",
     "output_type": "stream",
     "text": [
      "train accuracy: 0.786250\n"
     ]
    },
    {
     "name": "stderr",
     "output_type": "stream",
     "text": [
      "100%|██████████| 75/75 [00:01<00:00, 39.86it/s, valid_loss=0.551]\n"
     ]
    },
    {
     "name": "stdout",
     "output_type": "stream",
     "text": [
      "valid accuracy: 0.788333\n",
      "Saved Best Model as Cross_trails/S1/15_best.pt!\n",
      "Epoch: 16\n"
     ]
    },
    {
     "name": "stderr",
     "output_type": "stream",
     "text": [
      "100%|██████████| 300/300 [00:29<00:00, 10.21it/s, lr=0.00102, train_loss=0.516]\n"
     ]
    },
    {
     "name": "stdout",
     "output_type": "stream",
     "text": [
      "train accuracy: 0.835000\n"
     ]
    },
    {
     "name": "stderr",
     "output_type": "stream",
     "text": [
      "100%|██████████| 75/75 [00:03<00:00, 19.75it/s, valid_loss=0.47] \n"
     ]
    },
    {
     "name": "stdout",
     "output_type": "stream",
     "text": [
      "valid accuracy: 0.841667\n",
      "Saved Best Model as Cross_trails/S1/16_best.pt!\n",
      "Epoch: 17\n"
     ]
    },
    {
     "name": "stderr",
     "output_type": "stream",
     "text": [
      "100%|██████████| 300/300 [00:33<00:00,  8.83it/s, lr=0.00102, train_loss=0.459]\n"
     ]
    },
    {
     "name": "stdout",
     "output_type": "stream",
     "text": [
      "train accuracy: 0.850833\n"
     ]
    },
    {
     "name": "stderr",
     "output_type": "stream",
     "text": [
      "100%|██████████| 75/75 [00:01<00:00, 41.60it/s, valid_loss=0.464]\n"
     ]
    },
    {
     "name": "stdout",
     "output_type": "stream",
     "text": [
      "valid accuracy: 0.856667\n",
      "Saved Best Model as Cross_trails/S1/17_best.pt!\n",
      "Epoch: 18\n"
     ]
    },
    {
     "name": "stderr",
     "output_type": "stream",
     "text": [
      "100%|██████████| 300/300 [00:29<00:00, 10.24it/s, lr=0.00102, train_loss=0.436]\n"
     ]
    },
    {
     "name": "stdout",
     "output_type": "stream",
     "text": [
      "train accuracy: 0.868750\n"
     ]
    },
    {
     "name": "stderr",
     "output_type": "stream",
     "text": [
      "100%|██████████| 75/75 [00:01<00:00, 40.68it/s, valid_loss=0.435]\n"
     ]
    },
    {
     "name": "stdout",
     "output_type": "stream",
     "text": [
      "valid accuracy: 0.856667\n",
      "Epoch: 19\n"
     ]
    },
    {
     "name": "stderr",
     "output_type": "stream",
     "text": [
      "100%|██████████| 300/300 [00:33<00:00,  9.06it/s, lr=0.00102, train_loss=0.425]\n"
     ]
    },
    {
     "name": "stdout",
     "output_type": "stream",
     "text": [
      "train accuracy: 0.877083\n"
     ]
    },
    {
     "name": "stderr",
     "output_type": "stream",
     "text": [
      "100%|██████████| 75/75 [00:01<00:00, 39.93it/s, valid_loss=0.418]\n"
     ]
    },
    {
     "name": "stdout",
     "output_type": "stream",
     "text": [
      "valid accuracy: 0.856667\n",
      "Epoch: 20\n"
     ]
    },
    {
     "name": "stderr",
     "output_type": "stream",
     "text": [
      "100%|██████████| 300/300 [00:40<00:00,  7.35it/s, lr=0.00102, train_loss=0.446]\n"
     ]
    },
    {
     "name": "stdout",
     "output_type": "stream",
     "text": [
      "train accuracy: 0.869167\n"
     ]
    },
    {
     "name": "stderr",
     "output_type": "stream",
     "text": [
      "100%|██████████| 75/75 [00:01<00:00, 41.60it/s, valid_loss=0.481]\n"
     ]
    },
    {
     "name": "stdout",
     "output_type": "stream",
     "text": [
      "valid accuracy: 0.826667\n",
      "Epoch: 21\n"
     ]
    },
    {
     "name": "stderr",
     "output_type": "stream",
     "text": [
      "100%|██████████| 300/300 [00:29<00:00, 10.29it/s, lr=0.00102, train_loss=0.389]\n"
     ]
    },
    {
     "name": "stdout",
     "output_type": "stream",
     "text": [
      "train accuracy: 0.897500\n"
     ]
    },
    {
     "name": "stderr",
     "output_type": "stream",
     "text": [
      "100%|██████████| 75/75 [00:01<00:00, 42.51it/s, valid_loss=0.405]\n"
     ]
    },
    {
     "name": "stdout",
     "output_type": "stream",
     "text": [
      "valid accuracy: 0.865000\n",
      "Saved Best Model as Cross_trails/S1/21_best.pt!\n",
      "Epoch: 22\n"
     ]
    },
    {
     "name": "stderr",
     "output_type": "stream",
     "text": [
      "100%|██████████| 300/300 [00:29<00:00, 10.25it/s, lr=0.00102, train_loss=0.373]\n"
     ]
    },
    {
     "name": "stdout",
     "output_type": "stream",
     "text": [
      "train accuracy: 0.902917\n"
     ]
    },
    {
     "name": "stderr",
     "output_type": "stream",
     "text": [
      "100%|██████████| 75/75 [00:01<00:00, 40.14it/s, valid_loss=0.382]\n"
     ]
    },
    {
     "name": "stdout",
     "output_type": "stream",
     "text": [
      "valid accuracy: 0.893333\n",
      "Saved Best Model as Cross_trails/S1/22_best.pt!\n",
      "Epoch: 23\n"
     ]
    },
    {
     "name": "stderr",
     "output_type": "stream",
     "text": [
      "100%|██████████| 300/300 [00:29<00:00, 10.20it/s, lr=0.00102, train_loss=0.375]\n"
     ]
    },
    {
     "name": "stdout",
     "output_type": "stream",
     "text": [
      "train accuracy: 0.908333\n"
     ]
    },
    {
     "name": "stderr",
     "output_type": "stream",
     "text": [
      "100%|██████████| 75/75 [00:03<00:00, 19.42it/s, valid_loss=0.375]\n"
     ]
    },
    {
     "name": "stdout",
     "output_type": "stream",
     "text": [
      "valid accuracy: 0.875000\n",
      "Epoch: 24\n"
     ]
    },
    {
     "name": "stderr",
     "output_type": "stream",
     "text": [
      "100%|██████████| 300/300 [00:29<00:00, 10.30it/s, lr=0.00102, train_loss=0.355]\n"
     ]
    },
    {
     "name": "stdout",
     "output_type": "stream",
     "text": [
      "train accuracy: 0.907083\n"
     ]
    },
    {
     "name": "stderr",
     "output_type": "stream",
     "text": [
      "100%|██████████| 75/75 [00:03<00:00, 19.51it/s, valid_loss=0.415]\n"
     ]
    },
    {
     "name": "stdout",
     "output_type": "stream",
     "text": [
      "valid accuracy: 0.891667\n",
      "Epoch: 25\n"
     ]
    },
    {
     "name": "stderr",
     "output_type": "stream",
     "text": [
      "100%|██████████| 300/300 [00:34<00:00,  8.58it/s, lr=0.00102, train_loss=0.362]\n"
     ]
    },
    {
     "name": "stdout",
     "output_type": "stream",
     "text": [
      "train accuracy: 0.915833\n"
     ]
    },
    {
     "name": "stderr",
     "output_type": "stream",
     "text": [
      "100%|██████████| 75/75 [00:01<00:00, 41.12it/s, valid_loss=0.383]\n"
     ]
    },
    {
     "name": "stdout",
     "output_type": "stream",
     "text": [
      "valid accuracy: 0.886667\n",
      "Epoch: 26\n"
     ]
    },
    {
     "name": "stderr",
     "output_type": "stream",
     "text": [
      "100%|██████████| 300/300 [00:40<00:00,  7.32it/s, lr=0.00102, train_loss=0.352]\n"
     ]
    },
    {
     "name": "stdout",
     "output_type": "stream",
     "text": [
      "train accuracy: 0.922083\n"
     ]
    },
    {
     "name": "stderr",
     "output_type": "stream",
     "text": [
      "100%|██████████| 75/75 [00:01<00:00, 40.59it/s, valid_loss=0.359]\n"
     ]
    },
    {
     "name": "stdout",
     "output_type": "stream",
     "text": [
      "valid accuracy: 0.895000\n",
      "Saved Best Model as Cross_trails/S1/26_best.pt!\n",
      "Epoch: 27\n"
     ]
    },
    {
     "name": "stderr",
     "output_type": "stream",
     "text": [
      "100%|██████████| 300/300 [00:29<00:00, 10.22it/s, lr=0.00102, train_loss=0.35] \n"
     ]
    },
    {
     "name": "stdout",
     "output_type": "stream",
     "text": [
      "train accuracy: 0.928750\n"
     ]
    },
    {
     "name": "stderr",
     "output_type": "stream",
     "text": [
      "100%|██████████| 75/75 [00:03<00:00, 19.49it/s, valid_loss=0.36] \n"
     ]
    },
    {
     "name": "stdout",
     "output_type": "stream",
     "text": [
      "valid accuracy: 0.893333\n",
      "Epoch: 28\n"
     ]
    },
    {
     "name": "stderr",
     "output_type": "stream",
     "text": [
      "100%|██████████| 300/300 [00:29<00:00, 10.23it/s, lr=0.00102, train_loss=0.351]\n"
     ]
    },
    {
     "name": "stdout",
     "output_type": "stream",
     "text": [
      "train accuracy: 0.915000\n"
     ]
    },
    {
     "name": "stderr",
     "output_type": "stream",
     "text": [
      "100%|██████████| 75/75 [00:03<00:00, 19.50it/s, valid_loss=0.371]\n"
     ]
    },
    {
     "name": "stdout",
     "output_type": "stream",
     "text": [
      "valid accuracy: 0.901667\n",
      "Saved Best Model as Cross_trails/S1/28_best.pt!\n",
      "Epoch: 29\n"
     ]
    },
    {
     "name": "stderr",
     "output_type": "stream",
     "text": [
      "100%|██████████| 300/300 [00:30<00:00,  9.87it/s, lr=0.00102, train_loss=0.337]\n"
     ]
    },
    {
     "name": "stdout",
     "output_type": "stream",
     "text": [
      "train accuracy: 0.919167\n"
     ]
    },
    {
     "name": "stderr",
     "output_type": "stream",
     "text": [
      "100%|██████████| 75/75 [00:03<00:00, 19.66it/s, valid_loss=0.461]\n"
     ]
    },
    {
     "name": "stdout",
     "output_type": "stream",
     "text": [
      "valid accuracy: 0.906667\n",
      "Saved Best Model as Cross_trails/S1/29_best.pt!\n",
      "Epoch: 30\n"
     ]
    },
    {
     "name": "stderr",
     "output_type": "stream",
     "text": [
      "100%|██████████| 300/300 [00:17<00:00, 17.45it/s, lr=0.000819, train_loss=0.333]\n"
     ]
    },
    {
     "name": "stdout",
     "output_type": "stream",
     "text": [
      "train accuracy: 0.927083\n"
     ]
    },
    {
     "name": "stderr",
     "output_type": "stream",
     "text": [
      "100%|██████████| 75/75 [00:01<00:00, 40.78it/s, valid_loss=0.355]\n"
     ]
    },
    {
     "name": "stdout",
     "output_type": "stream",
     "text": [
      "valid accuracy: 0.900000\n",
      "Epoch: 31\n"
     ]
    },
    {
     "name": "stderr",
     "output_type": "stream",
     "text": [
      "100%|██████████| 300/300 [00:17<00:00, 17.12it/s, lr=0.000819, train_loss=0.326]\n"
     ]
    },
    {
     "name": "stdout",
     "output_type": "stream",
     "text": [
      "train accuracy: 0.928750\n"
     ]
    },
    {
     "name": "stderr",
     "output_type": "stream",
     "text": [
      "100%|██████████| 75/75 [00:01<00:00, 40.34it/s, valid_loss=0.349]\n"
     ]
    },
    {
     "name": "stdout",
     "output_type": "stream",
     "text": [
      "valid accuracy: 0.905000\n",
      "Epoch: 32\n"
     ]
    },
    {
     "name": "stderr",
     "output_type": "stream",
     "text": [
      "100%|██████████| 300/300 [00:29<00:00, 10.24it/s, lr=0.000819, train_loss=0.327]\n"
     ]
    },
    {
     "name": "stdout",
     "output_type": "stream",
     "text": [
      "train accuracy: 0.939583\n"
     ]
    },
    {
     "name": "stderr",
     "output_type": "stream",
     "text": [
      "100%|██████████| 75/75 [00:03<00:00, 19.63it/s, valid_loss=0.344]\n"
     ]
    },
    {
     "name": "stdout",
     "output_type": "stream",
     "text": [
      "valid accuracy: 0.903333\n",
      "Epoch: 33\n"
     ]
    },
    {
     "name": "stderr",
     "output_type": "stream",
     "text": [
      "100%|██████████| 300/300 [00:41<00:00,  7.31it/s, lr=0.000819, train_loss=0.317]\n"
     ]
    },
    {
     "name": "stdout",
     "output_type": "stream",
     "text": [
      "train accuracy: 0.946667\n"
     ]
    },
    {
     "name": "stderr",
     "output_type": "stream",
     "text": [
      "100%|██████████| 75/75 [00:01<00:00, 40.22it/s, valid_loss=0.352]\n"
     ]
    },
    {
     "name": "stdout",
     "output_type": "stream",
     "text": [
      "valid accuracy: 0.903333\n",
      "Epoch: 34\n"
     ]
    },
    {
     "name": "stderr",
     "output_type": "stream",
     "text": [
      "100%|██████████| 300/300 [00:29<00:00, 10.24it/s, lr=0.000655, train_loss=0.314]\n"
     ]
    },
    {
     "name": "stdout",
     "output_type": "stream",
     "text": [
      "train accuracy: 0.929583\n"
     ]
    },
    {
     "name": "stderr",
     "output_type": "stream",
     "text": [
      "100%|██████████| 75/75 [00:03<00:00, 19.66it/s, valid_loss=0.36] \n"
     ]
    },
    {
     "name": "stdout",
     "output_type": "stream",
     "text": [
      "valid accuracy: 0.891667\n",
      "Epoch: 37\n"
     ]
    },
    {
     "name": "stderr",
     "output_type": "stream",
     "text": [
      "100%|██████████| 300/300 [00:29<00:00, 10.21it/s, lr=0.000655, train_loss=0.307]\n"
     ]
    },
    {
     "name": "stdout",
     "output_type": "stream",
     "text": [
      "train accuracy: 0.943750\n"
     ]
    },
    {
     "name": "stderr",
     "output_type": "stream",
     "text": [
      "100%|██████████| 75/75 [00:01<00:00, 40.25it/s, valid_loss=0.33] \n"
     ]
    },
    {
     "name": "stdout",
     "output_type": "stream",
     "text": [
      "valid accuracy: 0.918333\n",
      "Saved Best Model as Cross_trails/S1/37_best.pt!\n",
      "Epoch: 38\n"
     ]
    },
    {
     "name": "stderr",
     "output_type": "stream",
     "text": [
      "100%|██████████| 300/300 [00:29<00:00, 10.27it/s, lr=0.000655, train_loss=0.311]\n"
     ]
    },
    {
     "name": "stdout",
     "output_type": "stream",
     "text": [
      "train accuracy: 0.949167\n"
     ]
    },
    {
     "name": "stderr",
     "output_type": "stream",
     "text": [
      "100%|██████████| 75/75 [00:01<00:00, 41.39it/s, valid_loss=0.329]\n"
     ]
    },
    {
     "name": "stdout",
     "output_type": "stream",
     "text": [
      "valid accuracy: 0.916667\n",
      "Epoch: 39\n"
     ]
    },
    {
     "name": "stderr",
     "output_type": "stream",
     "text": [
      "100%|██████████| 300/300 [00:37<00:00,  7.93it/s, lr=0.000655, train_loss=0.309]\n"
     ]
    },
    {
     "name": "stdout",
     "output_type": "stream",
     "text": [
      "train accuracy: 0.949583\n"
     ]
    },
    {
     "name": "stderr",
     "output_type": "stream",
     "text": [
      "100%|██████████| 75/75 [00:01<00:00, 41.47it/s, valid_loss=0.325]\n"
     ]
    },
    {
     "name": "stdout",
     "output_type": "stream",
     "text": [
      "valid accuracy: 0.915000\n",
      "Epoch: 40\n"
     ]
    },
    {
     "name": "stderr",
     "output_type": "stream",
     "text": [
      "100%|██████████| 300/300 [00:29<00:00, 10.30it/s, lr=0.000655, train_loss=0.307]\n"
     ]
    },
    {
     "name": "stdout",
     "output_type": "stream",
     "text": [
      "train accuracy: 0.953333\n"
     ]
    },
    {
     "name": "stderr",
     "output_type": "stream",
     "text": [
      "100%|██████████| 75/75 [00:01<00:00, 40.35it/s, valid_loss=0.341]\n"
     ]
    },
    {
     "name": "stdout",
     "output_type": "stream",
     "text": [
      "valid accuracy: 0.920000\n",
      "Saved Best Model as Cross_trails/S1/40_best.pt!\n",
      "Epoch: 41\n"
     ]
    },
    {
     "name": "stderr",
     "output_type": "stream",
     "text": [
      " 39%|███▊      | 116/300 [00:13<00:17, 10.29it/s, lr=0.000655, train_loss=0.294]IOPub message rate exceeded.\n",
      "The notebook server will temporarily stop sending output\n",
      "to the client in order to avoid crashing it.\n",
      "To change this limit, set the config variable\n",
      "`--NotebookApp.iopub_msg_rate_limit`.\n",
      "\n",
      "Current values:\n",
      "NotebookApp.iopub_msg_rate_limit=1000.0 (msgs/sec)\n",
      "NotebookApp.rate_limit_window=3.0 (secs)\n",
      "\n",
      "100%|██████████| 75/75 [00:03<00:00, 19.60it/s, valid_loss=0.313]\n"
     ]
    },
    {
     "name": "stdout",
     "output_type": "stream",
     "text": [
      "valid accuracy: 0.928333\n",
      "Epoch: 54\n"
     ]
    },
    {
     "name": "stderr",
     "output_type": "stream",
     "text": [
      "100%|██████████| 300/300 [00:17<00:00, 17.62it/s, lr=0.000419, train_loss=0.287]\n"
     ]
    },
    {
     "name": "stdout",
     "output_type": "stream",
     "text": [
      "train accuracy: 0.962500\n"
     ]
    },
    {
     "name": "stderr",
     "output_type": "stream",
     "text": [
      "100%|██████████| 75/75 [00:03<00:00, 19.80it/s, valid_loss=0.319]\n"
     ]
    },
    {
     "name": "stdout",
     "output_type": "stream",
     "text": [
      "valid accuracy: 0.930000\n",
      "Epoch: 55\n"
     ]
    },
    {
     "name": "stderr",
     "output_type": "stream",
     "text": [
      "100%|██████████| 300/300 [00:28<00:00, 10.55it/s, lr=0.000419, train_loss=0.277]\n"
     ]
    },
    {
     "name": "stdout",
     "output_type": "stream",
     "text": [
      "train accuracy: 0.963333\n"
     ]
    },
    {
     "name": "stderr",
     "output_type": "stream",
     "text": [
      "100%|██████████| 75/75 [00:01<00:00, 40.29it/s, valid_loss=0.325]\n"
     ]
    },
    {
     "name": "stdout",
     "output_type": "stream",
     "text": [
      "valid accuracy: 0.925000\n",
      "Epoch: 56\n"
     ]
    },
    {
     "name": "stderr",
     "output_type": "stream",
     "text": [
      "100%|██████████| 300/300 [00:16<00:00, 17.68it/s, lr=0.000419, train_loss=0.279]\n"
     ]
    },
    {
     "name": "stdout",
     "output_type": "stream",
     "text": [
      "train accuracy: 0.957917\n"
     ]
    },
    {
     "name": "stderr",
     "output_type": "stream",
     "text": [
      "100%|██████████| 75/75 [00:01<00:00, 40.52it/s, valid_loss=0.315]\n"
     ]
    },
    {
     "name": "stdout",
     "output_type": "stream",
     "text": [
      "valid accuracy: 0.925000\n",
      "Epoch: 57\n"
     ]
    },
    {
     "name": "stderr",
     "output_type": "stream",
     "text": [
      "100%|██████████| 300/300 [00:29<00:00, 10.24it/s, lr=0.000336, train_loss=0.278]\n"
     ]
    },
    {
     "name": "stdout",
     "output_type": "stream",
     "text": [
      "train accuracy: 0.965417\n"
     ]
    },
    {
     "name": "stderr",
     "output_type": "stream",
     "text": [
      "100%|██████████| 75/75 [00:03<00:00, 19.90it/s, valid_loss=0.322]\n"
     ]
    },
    {
     "name": "stdout",
     "output_type": "stream",
     "text": [
      "valid accuracy: 0.935000\n",
      "Saved Best Model as Cross_trails/S1/57_best.pt!\n",
      "Epoch: 58\n"
     ]
    },
    {
     "name": "stderr",
     "output_type": "stream",
     "text": [
      "100%|██████████| 300/300 [00:29<00:00, 10.25it/s, lr=0.000336, train_loss=0.271]\n"
     ]
    },
    {
     "name": "stdout",
     "output_type": "stream",
     "text": [
      "train accuracy: 0.963750\n"
     ]
    },
    {
     "name": "stderr",
     "output_type": "stream",
     "text": [
      "100%|██████████| 75/75 [00:01<00:00, 41.17it/s, valid_loss=0.305]\n"
     ]
    },
    {
     "name": "stdout",
     "output_type": "stream",
     "text": [
      "valid accuracy: 0.928333\n",
      "Epoch: 59\n"
     ]
    },
    {
     "name": "stderr",
     "output_type": "stream",
     "text": [
      " 37%|███▋      | 112/300 [00:11<00:18, 10.31it/s, lr=0.000336, train_loss=0.284]IOPub message rate exceeded.\n",
      "The notebook server will temporarily stop sending output\n",
      "to the client in order to avoid crashing it.\n",
      "To change this limit, set the config variable\n",
      "`--NotebookApp.iopub_msg_rate_limit`.\n",
      "\n",
      "Current values:\n",
      "NotebookApp.iopub_msg_rate_limit=1000.0 (msgs/sec)\n",
      "NotebookApp.rate_limit_window=3.0 (secs)\n",
      "\n",
      "100%|██████████| 300/300 [00:41<00:00,  7.31it/s, lr=0.00128, train_loss=0.714]\n"
     ]
    },
    {
     "name": "stdout",
     "output_type": "stream",
     "text": [
      "train accuracy: 0.469583\n"
     ]
    },
    {
     "name": "stderr",
     "output_type": "stream",
     "text": [
      "100%|██████████| 75/75 [00:03<00:00, 19.76it/s, valid_loss=0.714]\n"
     ]
    },
    {
     "name": "stdout",
     "output_type": "stream",
     "text": [
      "valid accuracy: 0.473333\n",
      "Epoch: 11\n"
     ]
    },
    {
     "name": "stderr",
     "output_type": "stream",
     "text": [
      "100%|██████████| 300/300 [00:29<00:00, 10.20it/s, lr=0.00128, train_loss=0.715]\n"
     ]
    },
    {
     "name": "stdout",
     "output_type": "stream",
     "text": [
      "train accuracy: 0.490000\n"
     ]
    },
    {
     "name": "stderr",
     "output_type": "stream",
     "text": [
      "100%|██████████| 75/75 [00:03<00:00, 19.38it/s, valid_loss=0.714]\n"
     ]
    },
    {
     "name": "stdout",
     "output_type": "stream",
     "text": [
      "valid accuracy: 0.480000\n",
      "Epoch: 12\n"
     ]
    },
    {
     "name": "stderr",
     "output_type": "stream",
     "text": [
      "100%|██████████| 300/300 [00:29<00:00, 10.30it/s, lr=0.00102, train_loss=0.714]\n"
     ]
    },
    {
     "name": "stdout",
     "output_type": "stream",
     "text": [
      "train accuracy: 0.500000\n"
     ]
    },
    {
     "name": "stderr",
     "output_type": "stream",
     "text": [
      "100%|██████████| 75/75 [00:01<00:00, 41.02it/s, valid_loss=0.714]\n"
     ]
    },
    {
     "name": "stdout",
     "output_type": "stream",
     "text": [
      "valid accuracy: 0.478333\n",
      "Epoch: 13\n"
     ]
    },
    {
     "name": "stderr",
     "output_type": "stream",
     "text": [
      "100%|██████████| 300/300 [00:29<00:00, 10.22it/s, lr=0.00102, train_loss=0.714]\n"
     ]
    },
    {
     "name": "stdout",
     "output_type": "stream",
     "text": [
      "train accuracy: 0.502083\n"
     ]
    },
    {
     "name": "stderr",
     "output_type": "stream",
     "text": [
      "100%|██████████| 75/75 [00:01<00:00, 39.99it/s, valid_loss=0.714]\n"
     ]
    },
    {
     "name": "stdout",
     "output_type": "stream",
     "text": [
      "valid accuracy: 0.481667\n",
      "Epoch: 14\n"
     ]
    },
    {
     "name": "stderr",
     "output_type": "stream",
     "text": [
      "100%|██████████| 300/300 [00:29<00:00, 10.30it/s, lr=0.00102, train_loss=0.714]\n"
     ]
    },
    {
     "name": "stdout",
     "output_type": "stream",
     "text": [
      "train accuracy: 0.564583\n"
     ]
    },
    {
     "name": "stderr",
     "output_type": "stream",
     "text": [
      "100%|██████████| 75/75 [00:01<00:00, 41.33it/s, valid_loss=0.714]\n"
     ]
    },
    {
     "name": "stdout",
     "output_type": "stream",
     "text": [
      "valid accuracy: 0.528333\n",
      "Epoch: 15\n"
     ]
    },
    {
     "name": "stderr",
     "output_type": "stream",
     "text": [
      "100%|██████████| 300/300 [00:29<00:00, 10.22it/s, lr=0.000819, train_loss=0.714]\n"
     ]
    },
    {
     "name": "stdout",
     "output_type": "stream",
     "text": [
      "train accuracy: 0.534167\n"
     ]
    },
    {
     "name": "stderr",
     "output_type": "stream",
     "text": [
      " 48%|████▊     | 36/75 [00:00<00:00, 43.78it/s, valid_loss=0.714]IOPub message rate exceeded.\n",
      "The notebook server will temporarily stop sending output\n",
      "to the client in order to avoid crashing it.\n",
      "To change this limit, set the config variable\n",
      "`--NotebookApp.iopub_msg_rate_limit`.\n",
      "\n",
      "Current values:\n",
      "NotebookApp.iopub_msg_rate_limit=1000.0 (msgs/sec)\n",
      "NotebookApp.rate_limit_window=3.0 (secs)\n",
      "\n",
      "100%|██████████| 300/300 [00:41<00:00,  7.31it/s, lr=0.000524, train_loss=0.703]\n"
     ]
    },
    {
     "name": "stdout",
     "output_type": "stream",
     "text": [
      "train accuracy: 0.694167\n"
     ]
    },
    {
     "name": "stderr",
     "output_type": "stream",
     "text": [
      "100%|██████████| 75/75 [00:01<00:00, 40.65it/s, valid_loss=0.667]\n"
     ]
    },
    {
     "name": "stdout",
     "output_type": "stream",
     "text": [
      "valid accuracy: 0.663333\n",
      "Epoch: 27\n"
     ]
    },
    {
     "name": "stderr",
     "output_type": "stream",
     "text": [
      "100%|██████████| 300/300 [00:40<00:00,  7.45it/s, lr=0.000524, train_loss=0.623]\n"
     ]
    },
    {
     "name": "stdout",
     "output_type": "stream",
     "text": [
      "train accuracy: 0.729583\n"
     ]
    },
    {
     "name": "stderr",
     "output_type": "stream",
     "text": [
      "100%|██████████| 75/75 [00:03<00:00, 19.72it/s, valid_loss=0.625]\n"
     ]
    },
    {
     "name": "stdout",
     "output_type": "stream",
     "text": [
      "valid accuracy: 0.676667\n",
      "Saved Best Model as Cross_trails/S2/27_best.pt!\n",
      "Epoch: 28\n"
     ]
    },
    {
     "name": "stderr",
     "output_type": "stream",
     "text": [
      "100%|██████████| 300/300 [00:19<00:00, 15.65it/s, lr=0.000524, train_loss=0.587]\n"
     ]
    },
    {
     "name": "stdout",
     "output_type": "stream",
     "text": [
      "train accuracy: 0.743333\n"
     ]
    },
    {
     "name": "stderr",
     "output_type": "stream",
     "text": [
      "100%|██████████| 75/75 [00:03<00:00, 19.71it/s, valid_loss=0.603]\n"
     ]
    },
    {
     "name": "stdout",
     "output_type": "stream",
     "text": [
      "valid accuracy: 0.695000\n",
      "Saved Best Model as Cross_trails/S2/28_best.pt!\n",
      "Epoch: 29\n"
     ]
    },
    {
     "name": "stderr",
     "output_type": "stream",
     "text": [
      "100%|██████████| 300/300 [00:28<00:00, 10.50it/s, lr=0.000524, train_loss=0.568]\n"
     ]
    },
    {
     "name": "stdout",
     "output_type": "stream",
     "text": [
      "train accuracy: 0.754167\n"
     ]
    },
    {
     "name": "stderr",
     "output_type": "stream",
     "text": [
      "100%|██████████| 75/75 [00:01<00:00, 41.34it/s, valid_loss=0.604]\n"
     ]
    },
    {
     "name": "stdout",
     "output_type": "stream",
     "text": [
      "valid accuracy: 0.703333\n",
      "Saved Best Model as Cross_trails/S2/29_best.pt!\n",
      "Epoch: 30\n"
     ]
    },
    {
     "name": "stderr",
     "output_type": "stream",
     "text": [
      "100%|██████████| 300/300 [00:17<00:00, 17.41it/s, lr=0.000524, train_loss=0.549]\n"
     ]
    },
    {
     "name": "stdout",
     "output_type": "stream",
     "text": [
      "train accuracy: 0.783333\n"
     ]
    },
    {
     "name": "stderr",
     "output_type": "stream",
     "text": [
      "100%|██████████| 75/75 [00:03<00:00, 19.86it/s, valid_loss=0.582]\n"
     ]
    },
    {
     "name": "stdout",
     "output_type": "stream",
     "text": [
      "valid accuracy: 0.730000\n",
      "Saved Best Model as Cross_trails/S2/30_best.pt!\n",
      "Epoch: 31\n"
     ]
    },
    {
     "name": "stderr",
     "output_type": "stream",
     "text": [
      "100%|██████████| 300/300 [00:27<00:00, 10.73it/s, lr=0.000524, train_loss=0.53] \n"
     ]
    },
    {
     "name": "stdout",
     "output_type": "stream",
     "text": [
      "train accuracy: 0.800000\n"
     ]
    },
    {
     "name": "stderr",
     "output_type": "stream",
     "text": [
      " 48%|████▊     | 36/75 [00:00<00:00, 44.63it/s, valid_loss=0.582]IOPub message rate exceeded.\n",
      "The notebook server will temporarily stop sending output\n",
      "to the client in order to avoid crashing it.\n",
      "To change this limit, set the config variable\n",
      "`--NotebookApp.iopub_msg_rate_limit`.\n",
      "\n",
      "Current values:\n",
      "NotebookApp.iopub_msg_rate_limit=1000.0 (msgs/sec)\n",
      "NotebookApp.rate_limit_window=3.0 (secs)\n",
      "\n",
      "100%|██████████| 300/300 [00:33<00:00,  8.95it/s, lr=0.000524, train_loss=0.359]\n"
     ]
    },
    {
     "name": "stdout",
     "output_type": "stream",
     "text": [
      "train accuracy: 0.916250\n"
     ]
    },
    {
     "name": "stderr",
     "output_type": "stream",
     "text": [
      "100%|██████████| 75/75 [00:01<00:00, 40.60it/s, valid_loss=0.406]\n"
     ]
    },
    {
     "name": "stdout",
     "output_type": "stream",
     "text": [
      "valid accuracy: 0.876667\n",
      "Saved Best Model as Cross_trails/S2/43_best.pt!\n",
      "Epoch: 44\n"
     ]
    },
    {
     "name": "stderr",
     "output_type": "stream",
     "text": [
      "100%|██████████| 300/300 [00:29<00:00, 10.24it/s, lr=0.000524, train_loss=0.364]\n"
     ]
    },
    {
     "name": "stdout",
     "output_type": "stream",
     "text": [
      "train accuracy: 0.920833\n"
     ]
    },
    {
     "name": "stderr",
     "output_type": "stream",
     "text": [
      "100%|██████████| 75/75 [00:01<00:00, 40.30it/s, valid_loss=0.389]\n"
     ]
    },
    {
     "name": "stdout",
     "output_type": "stream",
     "text": [
      "valid accuracy: 0.880000\n",
      "Saved Best Model as Cross_trails/S2/44_best.pt!\n",
      "Epoch: 45\n"
     ]
    },
    {
     "name": "stderr",
     "output_type": "stream",
     "text": [
      "100%|██████████| 300/300 [00:29<00:00, 10.23it/s, lr=0.000524, train_loss=0.358]\n"
     ]
    },
    {
     "name": "stdout",
     "output_type": "stream",
     "text": [
      "train accuracy: 0.903333\n"
     ]
    },
    {
     "name": "stderr",
     "output_type": "stream",
     "text": [
      "100%|██████████| 75/75 [00:03<00:00, 19.63it/s, valid_loss=0.456]\n"
     ]
    },
    {
     "name": "stdout",
     "output_type": "stream",
     "text": [
      "valid accuracy: 0.863333\n",
      "Epoch: 46\n"
     ]
    },
    {
     "name": "stderr",
     "output_type": "stream",
     "text": [
      "100%|██████████| 300/300 [00:26<00:00, 11.51it/s, lr=0.000524, train_loss=0.361]\n"
     ]
    },
    {
     "name": "stdout",
     "output_type": "stream",
     "text": [
      "train accuracy: 0.922917\n"
     ]
    },
    {
     "name": "stderr",
     "output_type": "stream",
     "text": [
      "100%|██████████| 75/75 [00:02<00:00, 28.08it/s, valid_loss=0.383]\n"
     ]
    },
    {
     "name": "stdout",
     "output_type": "stream",
     "text": [
      "valid accuracy: 0.883333\n",
      "Saved Best Model as Cross_trails/S2/46_best.pt!\n",
      "Epoch: 47\n"
     ]
    },
    {
     "name": "stderr",
     "output_type": "stream",
     "text": [
      "100%|██████████| 300/300 [00:28<00:00, 10.48it/s, lr=0.000524, train_loss=0.347]\n"
     ]
    },
    {
     "name": "stdout",
     "output_type": "stream",
     "text": [
      "train accuracy: 0.926667\n"
     ]
    },
    {
     "name": "stderr",
     "output_type": "stream",
     "text": [
      "100%|██████████| 75/75 [00:01<00:00, 40.29it/s, valid_loss=0.393]\n"
     ]
    },
    {
     "name": "stdout",
     "output_type": "stream",
     "text": [
      "valid accuracy: 0.888333\n",
      "Saved Best Model as Cross_trails/S2/47_best.pt!\n",
      "Epoch: 48\n"
     ]
    },
    {
     "name": "stderr",
     "output_type": "stream",
     "text": [
      "100%|██████████| 300/300 [00:17<00:00, 17.55it/s, lr=0.000524, train_loss=0.336]\n"
     ]
    },
    {
     "name": "stdout",
     "output_type": "stream",
     "text": [
      "train accuracy: 0.934167\n"
     ]
    },
    {
     "name": "stderr",
     "output_type": "stream",
     "text": [
      "100%|██████████| 75/75 [00:01<00:00, 39.29it/s, valid_loss=0.36] \n"
     ]
    },
    {
     "name": "stdout",
     "output_type": "stream",
     "text": [
      "valid accuracy: 0.896667\n",
      "Saved Best Model as Cross_trails/S2/48_best.pt!\n",
      "Epoch: 49\n"
     ]
    },
    {
     "name": "stderr",
     "output_type": "stream",
     "text": [
      " 27%|██▋       | 81/300 [00:07<00:20, 10.62it/s, lr=0.000524, train_loss=0.342]IOPub message rate exceeded.\n",
      "The notebook server will temporarily stop sending output\n",
      "to the client in order to avoid crashing it.\n",
      "To change this limit, set the config variable\n",
      "`--NotebookApp.iopub_msg_rate_limit`.\n",
      "\n",
      "Current values:\n",
      "NotebookApp.iopub_msg_rate_limit=1000.0 (msgs/sec)\n",
      "NotebookApp.rate_limit_window=3.0 (secs)\n",
      "\n",
      "100%|██████████| 75/75 [00:01<00:00, 40.75it/s, valid_loss=0.714]\n"
     ]
    },
    {
     "name": "stdout",
     "output_type": "stream",
     "text": [
      "valid accuracy: 0.503333\n",
      "Saved Best Model as Cross_trails/S3/1_best.pt!\n",
      "Epoch: 2\n"
     ]
    },
    {
     "name": "stderr",
     "output_type": "stream",
     "text": [
      "100%|██████████| 300/300 [00:41<00:00,  7.31it/s, lr=0.002, train_loss=0.717]\n"
     ]
    },
    {
     "name": "stdout",
     "output_type": "stream",
     "text": [
      "train accuracy: 0.540000\n"
     ]
    },
    {
     "name": "stderr",
     "output_type": "stream",
     "text": [
      "100%|██████████| 75/75 [00:03<00:00, 19.53it/s, valid_loss=0.714]\n"
     ]
    },
    {
     "name": "stdout",
     "output_type": "stream",
     "text": [
      "valid accuracy: 0.531667\n",
      "Saved Best Model as Cross_trails/S3/2_best.pt!\n",
      "Epoch: 3\n"
     ]
    },
    {
     "name": "stderr",
     "output_type": "stream",
     "text": [
      "100%|██████████| 300/300 [00:29<00:00, 10.27it/s, lr=0.002, train_loss=0.715]\n"
     ]
    },
    {
     "name": "stdout",
     "output_type": "stream",
     "text": [
      "train accuracy: 0.671250\n"
     ]
    },
    {
     "name": "stderr",
     "output_type": "stream",
     "text": [
      "100%|██████████| 75/75 [00:01<00:00, 40.59it/s, valid_loss=0.714]\n"
     ]
    },
    {
     "name": "stdout",
     "output_type": "stream",
     "text": [
      "valid accuracy: 0.615000\n",
      "Saved Best Model as Cross_trails/S3/3_best.pt!\n",
      "Epoch: 4\n"
     ]
    },
    {
     "name": "stderr",
     "output_type": "stream",
     "text": [
      "100%|██████████| 300/300 [00:41<00:00,  7.31it/s, lr=0.002, train_loss=0.714]\n"
     ]
    },
    {
     "name": "stdout",
     "output_type": "stream",
     "text": [
      "train accuracy: 0.683750\n"
     ]
    },
    {
     "name": "stderr",
     "output_type": "stream",
     "text": [
      "100%|██████████| 75/75 [00:03<00:00, 19.70it/s, valid_loss=0.714]\n"
     ]
    },
    {
     "name": "stdout",
     "output_type": "stream",
     "text": [
      "valid accuracy: 0.621667\n",
      "Saved Best Model as Cross_trails/S3/4_best.pt!\n",
      "Epoch: 5\n"
     ]
    },
    {
     "name": "stderr",
     "output_type": "stream",
     "text": [
      "100%|██████████| 300/300 [00:30<00:00,  9.96it/s, lr=0.002, train_loss=0.715]\n"
     ]
    },
    {
     "name": "stdout",
     "output_type": "stream",
     "text": [
      "train accuracy: 0.655833\n"
     ]
    },
    {
     "name": "stderr",
     "output_type": "stream",
     "text": [
      "100%|██████████| 75/75 [00:03<00:00, 19.82it/s, valid_loss=0.714]\n"
     ]
    },
    {
     "name": "stdout",
     "output_type": "stream",
     "text": [
      "valid accuracy: 0.586667\n",
      "Epoch: 6\n"
     ]
    },
    {
     "name": "stderr",
     "output_type": "stream",
     "text": [
      "100%|██████████| 300/300 [00:40<00:00,  7.33it/s, lr=0.002, train_loss=0.715]\n"
     ]
    },
    {
     "name": "stdout",
     "output_type": "stream",
     "text": [
      "train accuracy: 0.641250\n"
     ]
    },
    {
     "name": "stderr",
     "output_type": "stream",
     "text": [
      "100%|██████████| 75/75 [00:01<00:00, 39.36it/s, valid_loss=0.714]\n"
     ]
    },
    {
     "name": "stdout",
     "output_type": "stream",
     "text": [
      "valid accuracy: 0.601667\n",
      "Epoch: 7\n"
     ]
    },
    {
     "name": "stderr",
     "output_type": "stream",
     "text": [
      "100%|██████████| 300/300 [00:29<00:00, 10.23it/s, lr=0.002, train_loss=0.708]\n"
     ]
    },
    {
     "name": "stdout",
     "output_type": "stream",
     "text": [
      "train accuracy: 0.705417\n"
     ]
    },
    {
     "name": "stderr",
     "output_type": "stream",
     "text": [
      "100%|██████████| 75/75 [00:01<00:00, 41.75it/s, valid_loss=0.646]\n"
     ]
    },
    {
     "name": "stdout",
     "output_type": "stream",
     "text": [
      "valid accuracy: 0.690000\n",
      "Saved Best Model as Cross_trails/S3/7_best.pt!\n",
      "Epoch: 8\n"
     ]
    },
    {
     "name": "stderr",
     "output_type": "stream",
     "text": [
      "100%|██████████| 300/300 [00:29<00:00, 10.25it/s, lr=0.002, train_loss=0.513]\n"
     ]
    },
    {
     "name": "stdout",
     "output_type": "stream",
     "text": [
      "train accuracy: 0.852083\n"
     ]
    },
    {
     "name": "stderr",
     "output_type": "stream",
     "text": [
      "100%|██████████| 75/75 [00:03<00:00, 19.57it/s, valid_loss=0.442]\n"
     ]
    },
    {
     "name": "stdout",
     "output_type": "stream",
     "text": [
      "valid accuracy: 0.845000\n",
      "Saved Best Model as Cross_trails/S3/8_best.pt!\n",
      "Epoch: 9\n"
     ]
    },
    {
     "name": "stderr",
     "output_type": "stream",
     "text": [
      "100%|██████████| 300/300 [00:29<00:00, 10.20it/s, lr=0.002, train_loss=0.405]\n"
     ]
    },
    {
     "name": "stdout",
     "output_type": "stream",
     "text": [
      "train accuracy: 0.872083\n"
     ]
    },
    {
     "name": "stderr",
     "output_type": "stream",
     "text": [
      "100%|██████████| 75/75 [00:03<00:00, 19.57it/s, valid_loss=0.422]\n"
     ]
    },
    {
     "name": "stdout",
     "output_type": "stream",
     "text": [
      "valid accuracy: 0.845000\n",
      "Epoch: 10\n"
     ]
    },
    {
     "name": "stderr",
     "output_type": "stream",
     "text": [
      "100%|██████████| 300/300 [00:37<00:00,  8.00it/s, lr=0.002, train_loss=0.375]\n"
     ]
    },
    {
     "name": "stdout",
     "output_type": "stream",
     "text": [
      "train accuracy: 0.897500\n"
     ]
    },
    {
     "name": "stderr",
     "output_type": "stream",
     "text": [
      "100%|██████████| 75/75 [00:01<00:00, 41.84it/s, valid_loss=0.41] \n"
     ]
    },
    {
     "name": "stdout",
     "output_type": "stream",
     "text": [
      "valid accuracy: 0.865000\n",
      "Saved Best Model as Cross_trails/S3/10_best.pt!\n",
      "Epoch: 11\n"
     ]
    },
    {
     "name": "stderr",
     "output_type": "stream",
     "text": [
      "100%|██████████| 300/300 [00:29<00:00, 10.21it/s, lr=0.002, train_loss=0.354]\n"
     ]
    },
    {
     "name": "stdout",
     "output_type": "stream",
     "text": [
      "train accuracy: 0.914167\n"
     ]
    },
    {
     "name": "stderr",
     "output_type": "stream",
     "text": [
      "100%|██████████| 75/75 [00:01<00:00, 41.91it/s, valid_loss=0.382]\n"
     ]
    },
    {
     "name": "stdout",
     "output_type": "stream",
     "text": [
      "valid accuracy: 0.883333\n",
      "Saved Best Model as Cross_trails/S3/11_best.pt!\n",
      "Epoch: 12\n"
     ]
    },
    {
     "name": "stderr",
     "output_type": "stream",
     "text": [
      "100%|██████████| 300/300 [00:38<00:00,  7.70it/s, lr=0.002, train_loss=0.338]\n"
     ]
    },
    {
     "name": "stdout",
     "output_type": "stream",
     "text": [
      "train accuracy: 0.924583\n"
     ]
    },
    {
     "name": "stderr",
     "output_type": "stream",
     "text": [
      "100%|██████████| 75/75 [00:01<00:00, 39.98it/s, valid_loss=0.382]\n"
     ]
    },
    {
     "name": "stdout",
     "output_type": "stream",
     "text": [
      "valid accuracy: 0.890000\n",
      "Saved Best Model as Cross_trails/S3/12_best.pt!\n",
      "Epoch: 13\n"
     ]
    },
    {
     "name": "stderr",
     "output_type": "stream",
     "text": [
      "100%|██████████| 300/300 [00:29<00:00, 10.24it/s, lr=0.002, train_loss=0.333]\n"
     ]
    },
    {
     "name": "stdout",
     "output_type": "stream",
     "text": [
      "train accuracy: 0.904583\n"
     ]
    },
    {
     "name": "stderr",
     "output_type": "stream",
     "text": [
      "100%|██████████| 75/75 [00:01<00:00, 42.21it/s, valid_loss=0.392]\n"
     ]
    },
    {
     "name": "stdout",
     "output_type": "stream",
     "text": [
      "valid accuracy: 0.873333\n",
      "Epoch: 14\n"
     ]
    },
    {
     "name": "stderr",
     "output_type": "stream",
     "text": [
      "100%|██████████| 300/300 [00:40<00:00,  7.36it/s, lr=0.002, train_loss=0.321]\n"
     ]
    },
    {
     "name": "stdout",
     "output_type": "stream",
     "text": [
      "train accuracy: 0.932500\n"
     ]
    },
    {
     "name": "stderr",
     "output_type": "stream",
     "text": [
      "100%|██████████| 75/75 [00:03<00:00, 20.18it/s, valid_loss=0.367]\n"
     ]
    },
    {
     "name": "stdout",
     "output_type": "stream",
     "text": [
      "valid accuracy: 0.906667\n",
      "Saved Best Model as Cross_trails/S3/14_best.pt!\n",
      "Epoch: 15\n"
     ]
    },
    {
     "name": "stderr",
     "output_type": "stream",
     "text": [
      "100%|██████████| 300/300 [00:33<00:00,  8.98it/s, lr=0.002, train_loss=0.316]\n"
     ]
    },
    {
     "name": "stdout",
     "output_type": "stream",
     "text": [
      "train accuracy: 0.928333\n"
     ]
    },
    {
     "name": "stderr",
     "output_type": "stream",
     "text": [
      "100%|██████████| 75/75 [00:03<00:00, 20.29it/s, valid_loss=0.35] \n"
     ]
    },
    {
     "name": "stdout",
     "output_type": "stream",
     "text": [
      "valid accuracy: 0.908333\n",
      "Saved Best Model as Cross_trails/S3/15_best.pt!\n",
      "Epoch: 16\n"
     ]
    },
    {
     "name": "stderr",
     "output_type": "stream",
     "text": [
      "100%|██████████| 300/300 [00:29<00:00, 10.26it/s, lr=0.002, train_loss=0.307]\n"
     ]
    },
    {
     "name": "stdout",
     "output_type": "stream",
     "text": [
      "train accuracy: 0.939167\n"
     ]
    },
    {
     "name": "stderr",
     "output_type": "stream",
     "text": [
      "100%|██████████| 75/75 [00:03<00:00, 19.56it/s, valid_loss=0.353]\n"
     ]
    },
    {
     "name": "stdout",
     "output_type": "stream",
     "text": [
      "valid accuracy: 0.910000\n",
      "Saved Best Model as Cross_trails/S3/16_best.pt!\n",
      "Epoch: 17\n"
     ]
    },
    {
     "name": "stderr",
     "output_type": "stream",
     "text": [
      "100%|██████████| 300/300 [00:37<00:00,  7.90it/s, lr=0.002, train_loss=0.301]\n"
     ]
    },
    {
     "name": "stdout",
     "output_type": "stream",
     "text": [
      "train accuracy: 0.948750\n"
     ]
    },
    {
     "name": "stderr",
     "output_type": "stream",
     "text": [
      "100%|██████████| 75/75 [00:03<00:00, 19.49it/s, valid_loss=0.343]\n"
     ]
    },
    {
     "name": "stdout",
     "output_type": "stream",
     "text": [
      "valid accuracy: 0.916667\n",
      "Saved Best Model as Cross_trails/S3/17_best.pt!\n",
      "Epoch: 18\n"
     ]
    },
    {
     "name": "stderr",
     "output_type": "stream",
     "text": [
      "100%|██████████| 300/300 [00:29<00:00, 10.24it/s, lr=0.002, train_loss=0.299]\n"
     ]
    },
    {
     "name": "stdout",
     "output_type": "stream",
     "text": [
      "train accuracy: 0.931250\n"
     ]
    },
    {
     "name": "stderr",
     "output_type": "stream",
     "text": [
      "100%|██████████| 75/75 [00:03<00:00, 20.31it/s, valid_loss=0.349]\n"
     ]
    },
    {
     "name": "stdout",
     "output_type": "stream",
     "text": [
      "valid accuracy: 0.910000\n",
      "Epoch: 19\n"
     ]
    },
    {
     "name": "stderr",
     "output_type": "stream",
     "text": [
      "100%|██████████| 300/300 [00:29<00:00, 10.27it/s, lr=0.002, train_loss=0.297]\n"
     ]
    },
    {
     "name": "stdout",
     "output_type": "stream",
     "text": [
      "train accuracy: 0.891667\n"
     ]
    },
    {
     "name": "stderr",
     "output_type": "stream",
     "text": [
      "100%|██████████| 75/75 [00:01<00:00, 41.34it/s, valid_loss=0.383]\n"
     ]
    },
    {
     "name": "stdout",
     "output_type": "stream",
     "text": [
      "valid accuracy: 0.891667\n",
      "Epoch: 20\n"
     ]
    },
    {
     "name": "stderr",
     "output_type": "stream",
     "text": [
      "100%|██████████| 300/300 [00:17<00:00, 16.68it/s, lr=0.002, train_loss=0.289]\n"
     ]
    },
    {
     "name": "stdout",
     "output_type": "stream",
     "text": [
      "train accuracy: 0.951250\n"
     ]
    },
    {
     "name": "stderr",
     "output_type": "stream",
     "text": [
      "100%|██████████| 75/75 [00:03<00:00, 19.52it/s, valid_loss=0.364]\n"
     ]
    },
    {
     "name": "stdout",
     "output_type": "stream",
     "text": [
      "valid accuracy: 0.910000\n",
      "Epoch: 21\n"
     ]
    },
    {
     "name": "stderr",
     "output_type": "stream",
     "text": [
      "100%|██████████| 300/300 [00:24<00:00, 12.20it/s, lr=0.0016, train_loss=0.278]\n"
     ]
    },
    {
     "name": "stdout",
     "output_type": "stream",
     "text": [
      "train accuracy: 0.955833\n"
     ]
    },
    {
     "name": "stderr",
     "output_type": "stream",
     "text": [
      "100%|██████████| 75/75 [00:01<00:00, 41.27it/s, valid_loss=0.315]\n"
     ]
    },
    {
     "name": "stdout",
     "output_type": "stream",
     "text": [
      "valid accuracy: 0.926667\n",
      "Saved Best Model as Cross_trails/S3/21_best.pt!\n",
      "Epoch: 22\n"
     ]
    },
    {
     "name": "stderr",
     "output_type": "stream",
     "text": [
      "100%|██████████| 300/300 [00:17<00:00, 17.30it/s, lr=0.0016, train_loss=0.272]\n"
     ]
    },
    {
     "name": "stdout",
     "output_type": "stream",
     "text": [
      "train accuracy: 0.961250\n"
     ]
    },
    {
     "name": "stderr",
     "output_type": "stream",
     "text": [
      "100%|██████████| 75/75 [00:01<00:00, 39.43it/s, valid_loss=0.311]\n"
     ]
    },
    {
     "name": "stdout",
     "output_type": "stream",
     "text": [
      "valid accuracy: 0.933333\n",
      "Saved Best Model as Cross_trails/S3/22_best.pt!\n",
      "Epoch: 23\n"
     ]
    },
    {
     "name": "stderr",
     "output_type": "stream",
     "text": [
      "100%|██████████| 300/300 [00:24<00:00, 12.34it/s, lr=0.0016, train_loss=0.27] \n"
     ]
    },
    {
     "name": "stdout",
     "output_type": "stream",
     "text": [
      "train accuracy: 0.953750\n"
     ]
    },
    {
     "name": "stderr",
     "output_type": "stream",
     "text": [
      "100%|██████████| 75/75 [00:01<00:00, 41.04it/s, valid_loss=0.315]\n"
     ]
    },
    {
     "name": "stdout",
     "output_type": "stream",
     "text": [
      "valid accuracy: 0.936667\n",
      "Saved Best Model as Cross_trails/S3/23_best.pt!\n",
      "Epoch: 24\n"
     ]
    },
    {
     "name": "stderr",
     "output_type": "stream",
     "text": [
      "100%|██████████| 300/300 [00:28<00:00, 10.52it/s, lr=0.0016, train_loss=0.271]\n"
     ]
    },
    {
     "name": "stdout",
     "output_type": "stream",
     "text": [
      "train accuracy: 0.962917\n"
     ]
    },
    {
     "name": "stderr",
     "output_type": "stream",
     "text": [
      "100%|██████████| 75/75 [00:03<00:00, 19.64it/s, valid_loss=0.319]\n"
     ]
    },
    {
     "name": "stdout",
     "output_type": "stream",
     "text": [
      "valid accuracy: 0.936667\n",
      "Epoch: 25\n"
     ]
    },
    {
     "name": "stderr",
     "output_type": "stream",
     "text": [
      "100%|██████████| 300/300 [00:28<00:00, 10.58it/s, lr=0.0016, train_loss=0.263]\n"
     ]
    },
    {
     "name": "stdout",
     "output_type": "stream",
     "text": [
      "train accuracy: 0.960417\n"
     ]
    },
    {
     "name": "stderr",
     "output_type": "stream",
     "text": [
      "100%|██████████| 75/75 [00:03<00:00, 23.11it/s, valid_loss=0.315]\n"
     ]
    },
    {
     "name": "stdout",
     "output_type": "stream",
     "text": [
      "valid accuracy: 0.931667\n",
      "Epoch: 26\n"
     ]
    },
    {
     "name": "stderr",
     "output_type": "stream",
     "text": [
      "100%|██████████| 300/300 [00:17<00:00, 17.48it/s, lr=0.00128, train_loss=0.262]\n"
     ]
    },
    {
     "name": "stdout",
     "output_type": "stream",
     "text": [
      "train accuracy: 0.965417\n"
     ]
    },
    {
     "name": "stderr",
     "output_type": "stream",
     "text": [
      "100%|██████████| 75/75 [00:03<00:00, 19.62it/s, valid_loss=0.294]\n"
     ]
    },
    {
     "name": "stdout",
     "output_type": "stream",
     "text": [
      "valid accuracy: 0.943333\n",
      "Saved Best Model as Cross_trails/S3/26_best.pt!\n",
      "Epoch: 27\n"
     ]
    },
    {
     "name": "stderr",
     "output_type": "stream",
     "text": [
      "100%|██████████| 300/300 [00:17<00:00, 17.47it/s, lr=0.00128, train_loss=0.261]\n"
     ]
    },
    {
     "name": "stdout",
     "output_type": "stream",
     "text": [
      "train accuracy: 0.967500\n"
     ]
    },
    {
     "name": "stderr",
     "output_type": "stream",
     "text": [
      "100%|██████████| 75/75 [00:03<00:00, 19.89it/s, valid_loss=0.308]\n"
     ]
    },
    {
     "name": "stdout",
     "output_type": "stream",
     "text": [
      "valid accuracy: 0.945000\n",
      "Saved Best Model as Cross_trails/S3/27_best.pt!\n",
      "Epoch: 28\n"
     ]
    },
    {
     "name": "stderr",
     "output_type": "stream",
     "text": [
      "100%|██████████| 300/300 [00:17<00:00, 17.51it/s, lr=0.00128, train_loss=0.257]\n"
     ]
    },
    {
     "name": "stdout",
     "output_type": "stream",
     "text": [
      "train accuracy: 0.960417\n"
     ]
    },
    {
     "name": "stderr",
     "output_type": "stream",
     "text": [
      "100%|██████████| 75/75 [00:01<00:00, 39.69it/s, valid_loss=0.308]\n"
     ]
    },
    {
     "name": "stdout",
     "output_type": "stream",
     "text": [
      "valid accuracy: 0.943333\n",
      "Epoch: 29\n"
     ]
    },
    {
     "name": "stderr",
     "output_type": "stream",
     "text": [
      "100%|██████████| 300/300 [00:28<00:00, 10.52it/s, lr=0.00128, train_loss=0.256]\n"
     ]
    },
    {
     "name": "stdout",
     "output_type": "stream",
     "text": [
      "train accuracy: 0.956250\n"
     ]
    },
    {
     "name": "stderr",
     "output_type": "stream",
     "text": [
      "100%|██████████| 75/75 [00:03<00:00, 19.35it/s, valid_loss=0.311]\n"
     ]
    },
    {
     "name": "stdout",
     "output_type": "stream",
     "text": [
      "valid accuracy: 0.930000\n",
      "Epoch: 30\n"
     ]
    },
    {
     "name": "stderr",
     "output_type": "stream",
     "text": [
      "100%|██████████| 300/300 [00:28<00:00, 10.55it/s, lr=0.00102, train_loss=0.251]\n"
     ]
    },
    {
     "name": "stdout",
     "output_type": "stream",
     "text": [
      "train accuracy: 0.966250\n"
     ]
    },
    {
     "name": "stderr",
     "output_type": "stream",
     "text": [
      "100%|██████████| 75/75 [00:01<00:00, 41.25it/s, valid_loss=0.299]\n"
     ]
    },
    {
     "name": "stdout",
     "output_type": "stream",
     "text": [
      "valid accuracy: 0.941667\n",
      "Epoch: 31\n"
     ]
    },
    {
     "name": "stderr",
     "output_type": "stream",
     "text": [
      "100%|██████████| 300/300 [00:28<00:00, 10.52it/s, lr=0.00102, train_loss=0.251]\n"
     ]
    },
    {
     "name": "stdout",
     "output_type": "stream",
     "text": [
      "train accuracy: 0.970833\n"
     ]
    },
    {
     "name": "stderr",
     "output_type": "stream",
     "text": [
      "100%|██████████| 75/75 [00:01<00:00, 41.04it/s, valid_loss=0.283]\n"
     ]
    },
    {
     "name": "stdout",
     "output_type": "stream",
     "text": [
      "valid accuracy: 0.941667\n",
      "Epoch: 32\n"
     ]
    },
    {
     "name": "stderr",
     "output_type": "stream",
     "text": [
      "100%|██████████| 300/300 [00:17<00:00, 17.59it/s, lr=0.00102, train_loss=0.246]\n"
     ]
    },
    {
     "name": "stdout",
     "output_type": "stream",
     "text": [
      "train accuracy: 0.967500\n"
     ]
    },
    {
     "name": "stderr",
     "output_type": "stream",
     "text": [
      "100%|██████████| 75/75 [00:01<00:00, 41.32it/s, valid_loss=0.321]\n"
     ]
    },
    {
     "name": "stdout",
     "output_type": "stream",
     "text": [
      "valid accuracy: 0.941667\n",
      "Epoch: 33\n"
     ]
    },
    {
     "name": "stderr",
     "output_type": "stream",
     "text": [
      "100%|██████████| 300/300 [00:20<00:00, 14.54it/s, lr=0.00102, train_loss=0.248]\n"
     ]
    },
    {
     "name": "stdout",
     "output_type": "stream",
     "text": [
      "train accuracy: 0.967500\n"
     ]
    },
    {
     "name": "stderr",
     "output_type": "stream",
     "text": [
      "100%|██████████| 75/75 [00:01<00:00, 40.86it/s, valid_loss=0.292]\n"
     ]
    },
    {
     "name": "stdout",
     "output_type": "stream",
     "text": [
      "valid accuracy: 0.943333\n",
      "Epoch: 34\n"
     ]
    },
    {
     "name": "stderr",
     "output_type": "stream",
     "text": [
      "100%|██████████| 300/300 [00:17<00:00, 17.37it/s, lr=0.00102, train_loss=0.247]\n"
     ]
    },
    {
     "name": "stdout",
     "output_type": "stream",
     "text": [
      "train accuracy: 0.961667\n"
     ]
    },
    {
     "name": "stderr",
     "output_type": "stream",
     "text": [
      "100%|██████████| 75/75 [00:01<00:00, 40.95it/s, valid_loss=0.315]\n"
     ]
    },
    {
     "name": "stdout",
     "output_type": "stream",
     "text": [
      "valid accuracy: 0.930000\n",
      "Epoch: 35\n"
     ]
    },
    {
     "name": "stderr",
     "output_type": "stream",
     "text": [
      "100%|██████████| 300/300 [00:22<00:00, 13.12it/s, lr=0.000819, train_loss=0.243]\n"
     ]
    },
    {
     "name": "stdout",
     "output_type": "stream",
     "text": [
      "train accuracy: 0.975000\n"
     ]
    },
    {
     "name": "stderr",
     "output_type": "stream",
     "text": [
      "100%|██████████| 75/75 [00:01<00:00, 39.93it/s, valid_loss=0.278]\n"
     ]
    },
    {
     "name": "stdout",
     "output_type": "stream",
     "text": [
      "valid accuracy: 0.953333\n",
      "Saved Best Model as Cross_trails/S3/35_best.pt!\n",
      "Epoch: 36\n"
     ]
    },
    {
     "name": "stderr",
     "output_type": "stream",
     "text": [
      "100%|██████████| 300/300 [00:18<00:00, 16.15it/s, lr=0.000819, train_loss=0.24] \n"
     ]
    },
    {
     "name": "stdout",
     "output_type": "stream",
     "text": [
      "train accuracy: 0.976667\n"
     ]
    },
    {
     "name": "stderr",
     "output_type": "stream",
     "text": [
      "100%|██████████| 75/75 [00:01<00:00, 41.18it/s, valid_loss=0.283]\n"
     ]
    },
    {
     "name": "stdout",
     "output_type": "stream",
     "text": [
      "valid accuracy: 0.943333\n",
      "Epoch: 37\n"
     ]
    },
    {
     "name": "stderr",
     "output_type": "stream",
     "text": [
      "100%|██████████| 300/300 [00:24<00:00, 12.20it/s, lr=0.000819, train_loss=0.242]\n"
     ]
    },
    {
     "name": "stdout",
     "output_type": "stream",
     "text": [
      "train accuracy: 0.973333\n"
     ]
    },
    {
     "name": "stderr",
     "output_type": "stream",
     "text": [
      "100%|██████████| 75/75 [00:03<00:00, 19.63it/s, valid_loss=0.281]\n"
     ]
    },
    {
     "name": "stdout",
     "output_type": "stream",
     "text": [
      "valid accuracy: 0.945000\n",
      "Epoch: 38\n"
     ]
    },
    {
     "name": "stderr",
     "output_type": "stream",
     "text": [
      "100%|██████████| 300/300 [00:40<00:00,  7.39it/s, lr=0.000819, train_loss=0.238]\n"
     ]
    },
    {
     "name": "stdout",
     "output_type": "stream",
     "text": [
      "train accuracy: 0.971250\n"
     ]
    },
    {
     "name": "stderr",
     "output_type": "stream",
     "text": [
      "100%|██████████| 75/75 [00:01<00:00, 41.83it/s, valid_loss=0.291]\n"
     ]
    },
    {
     "name": "stdout",
     "output_type": "stream",
     "text": [
      "valid accuracy: 0.946667\n",
      "Epoch: 39\n"
     ]
    },
    {
     "name": "stderr",
     "output_type": "stream",
     "text": [
      "100%|██████████| 300/300 [00:29<00:00, 10.21it/s, lr=0.000655, train_loss=0.236]\n"
     ]
    },
    {
     "name": "stdout",
     "output_type": "stream",
     "text": [
      "train accuracy: 0.971250\n"
     ]
    },
    {
     "name": "stderr",
     "output_type": "stream",
     "text": [
      "100%|██████████| 75/75 [00:03<00:00, 19.57it/s, valid_loss=0.281]\n"
     ]
    },
    {
     "name": "stdout",
     "output_type": "stream",
     "text": [
      "valid accuracy: 0.938333\n",
      "Epoch: 40\n"
     ]
    },
    {
     "name": "stderr",
     "output_type": "stream",
     "text": [
      "100%|██████████| 300/300 [00:41<00:00,  7.31it/s, lr=0.000655, train_loss=0.236]\n"
     ]
    },
    {
     "name": "stdout",
     "output_type": "stream",
     "text": [
      "train accuracy: 0.973333\n"
     ]
    },
    {
     "name": "stderr",
     "output_type": "stream",
     "text": [
      "100%|██████████| 75/75 [00:01<00:00, 39.25it/s, valid_loss=0.277]\n"
     ]
    },
    {
     "name": "stdout",
     "output_type": "stream",
     "text": [
      "valid accuracy: 0.946667\n",
      "Epoch: 41\n"
     ]
    },
    {
     "name": "stderr",
     "output_type": "stream",
     "text": [
      "100%|██████████| 300/300 [00:41<00:00,  7.30it/s, lr=0.000655, train_loss=0.236]\n"
     ]
    },
    {
     "name": "stdout",
     "output_type": "stream",
     "text": [
      "train accuracy: 0.972500\n"
     ]
    },
    {
     "name": "stderr",
     "output_type": "stream",
     "text": [
      "100%|██████████| 75/75 [00:03<00:00, 19.46it/s, valid_loss=0.282]\n"
     ]
    },
    {
     "name": "stdout",
     "output_type": "stream",
     "text": [
      "valid accuracy: 0.948333\n",
      "Epoch: 42\n"
     ]
    },
    {
     "name": "stderr",
     "output_type": "stream",
     "text": [
      "100%|██████████| 300/300 [00:41<00:00,  7.30it/s, lr=0.000655, train_loss=0.234]\n"
     ]
    },
    {
     "name": "stdout",
     "output_type": "stream",
     "text": [
      "train accuracy: 0.975000\n"
     ]
    },
    {
     "name": "stderr",
     "output_type": "stream",
     "text": [
      "100%|██████████| 75/75 [00:03<00:00, 19.51it/s, valid_loss=0.273]\n"
     ]
    },
    {
     "name": "stdout",
     "output_type": "stream",
     "text": [
      "valid accuracy: 0.951667\n",
      "Epoch: 43\n"
     ]
    },
    {
     "name": "stderr",
     "output_type": "stream",
     "text": [
      "100%|██████████| 300/300 [00:29<00:00, 10.29it/s, lr=0.000655, train_loss=0.236]\n"
     ]
    },
    {
     "name": "stdout",
     "output_type": "stream",
     "text": [
      "train accuracy: 0.976250\n"
     ]
    },
    {
     "name": "stderr",
     "output_type": "stream",
     "text": [
      "100%|██████████| 75/75 [00:01<00:00, 41.36it/s, valid_loss=0.284]\n"
     ]
    },
    {
     "name": "stdout",
     "output_type": "stream",
     "text": [
      "valid accuracy: 0.941667\n",
      "Epoch: 44\n"
     ]
    },
    {
     "name": "stderr",
     "output_type": "stream",
     "text": [
      "100%|██████████| 300/300 [00:40<00:00,  7.34it/s, lr=0.000655, train_loss=0.234]\n"
     ]
    },
    {
     "name": "stdout",
     "output_type": "stream",
     "text": [
      "train accuracy: 0.973750\n"
     ]
    },
    {
     "name": "stderr",
     "output_type": "stream",
     "text": [
      "100%|██████████| 75/75 [00:01<00:00, 41.87it/s, valid_loss=0.275]\n"
     ]
    },
    {
     "name": "stdout",
     "output_type": "stream",
     "text": [
      "valid accuracy: 0.946667\n",
      "Epoch: 45\n"
     ]
    },
    {
     "name": "stderr",
     "output_type": "stream",
     "text": [
      "100%|██████████| 300/300 [00:34<00:00,  8.58it/s, lr=0.000655, train_loss=0.233]\n"
     ]
    },
    {
     "name": "stdout",
     "output_type": "stream",
     "text": [
      "train accuracy: 0.974583\n"
     ]
    },
    {
     "name": "stderr",
     "output_type": "stream",
     "text": [
      "100%|██████████| 75/75 [00:01<00:00, 39.14it/s, valid_loss=0.278]\n"
     ]
    },
    {
     "name": "stdout",
     "output_type": "stream",
     "text": [
      "valid accuracy: 0.946667\n",
      "Epoch: 46\n"
     ]
    },
    {
     "name": "stderr",
     "output_type": "stream",
     "text": [
      "100%|██████████| 300/300 [00:29<00:00, 10.28it/s, lr=0.000524, train_loss=0.232]\n"
     ]
    },
    {
     "name": "stdout",
     "output_type": "stream",
     "text": [
      "train accuracy: 0.973750\n"
     ]
    },
    {
     "name": "stderr",
     "output_type": "stream",
     "text": [
      "100%|██████████| 75/75 [00:01<00:00, 41.49it/s, valid_loss=0.283]\n"
     ]
    },
    {
     "name": "stdout",
     "output_type": "stream",
     "text": [
      "valid accuracy: 0.936667\n",
      "Epoch: 47\n"
     ]
    },
    {
     "name": "stderr",
     "output_type": "stream",
     "text": [
      "100%|██████████| 300/300 [00:31<00:00,  9.66it/s, lr=0.000524, train_loss=0.232]\n"
     ]
    },
    {
     "name": "stdout",
     "output_type": "stream",
     "text": [
      "train accuracy: 0.975417\n"
     ]
    },
    {
     "name": "stderr",
     "output_type": "stream",
     "text": [
      "100%|██████████| 75/75 [00:01<00:00, 39.39it/s, valid_loss=0.275]\n"
     ]
    },
    {
     "name": "stdout",
     "output_type": "stream",
     "text": [
      "valid accuracy: 0.945000\n",
      "Epoch: 48\n"
     ]
    },
    {
     "name": "stderr",
     "output_type": "stream",
     "text": [
      "100%|██████████| 300/300 [00:29<00:00, 10.25it/s, lr=0.000524, train_loss=0.229]\n"
     ]
    },
    {
     "name": "stdout",
     "output_type": "stream",
     "text": [
      "train accuracy: 0.974583\n"
     ]
    },
    {
     "name": "stderr",
     "output_type": "stream",
     "text": [
      "100%|██████████| 75/75 [00:01<00:00, 40.22it/s, valid_loss=0.274]\n"
     ]
    },
    {
     "name": "stdout",
     "output_type": "stream",
     "text": [
      "valid accuracy: 0.943333\n",
      "Epoch: 49\n"
     ]
    },
    {
     "name": "stderr",
     "output_type": "stream",
     "text": [
      "100%|██████████| 300/300 [00:29<00:00, 10.27it/s, lr=0.000419, train_loss=0.229]\n"
     ]
    },
    {
     "name": "stdout",
     "output_type": "stream",
     "text": [
      "train accuracy: 0.980417\n"
     ]
    },
    {
     "name": "stderr",
     "output_type": "stream",
     "text": [
      "100%|██████████| 75/75 [00:03<00:00, 20.48it/s, valid_loss=0.272]\n"
     ]
    },
    {
     "name": "stdout",
     "output_type": "stream",
     "text": [
      "valid accuracy: 0.943333\n",
      "Epoch: 50\n"
     ]
    },
    {
     "name": "stderr",
     "output_type": "stream",
     "text": [
      "100%|██████████| 300/300 [00:29<00:00, 10.20it/s, lr=0.000419, train_loss=0.228]\n"
     ]
    },
    {
     "name": "stdout",
     "output_type": "stream",
     "text": [
      "train accuracy: 0.976250\n"
     ]
    },
    {
     "name": "stderr",
     "output_type": "stream",
     "text": [
      "100%|██████████| 75/75 [00:01<00:00, 39.92it/s, valid_loss=0.273]\n"
     ]
    },
    {
     "name": "stdout",
     "output_type": "stream",
     "text": [
      "valid accuracy: 0.941667\n",
      "Epoch: 51\n"
     ]
    },
    {
     "name": "stderr",
     "output_type": "stream",
     "text": [
      "100%|██████████| 300/300 [00:29<00:00, 10.27it/s, lr=0.000419, train_loss=0.228]\n"
     ]
    },
    {
     "name": "stdout",
     "output_type": "stream",
     "text": [
      "train accuracy: 0.981667\n"
     ]
    },
    {
     "name": "stderr",
     "output_type": "stream",
     "text": [
      "100%|██████████| 75/75 [00:03<00:00, 19.86it/s, valid_loss=0.274]\n"
     ]
    },
    {
     "name": "stdout",
     "output_type": "stream",
     "text": [
      "valid accuracy: 0.941667\n",
      "Epoch: 52\n"
     ]
    },
    {
     "name": "stderr",
     "output_type": "stream",
     "text": [
      "100%|██████████| 300/300 [00:41<00:00,  7.29it/s, lr=0.000419, train_loss=0.229]\n"
     ]
    },
    {
     "name": "stdout",
     "output_type": "stream",
     "text": [
      "train accuracy: 0.978750\n"
     ]
    },
    {
     "name": "stderr",
     "output_type": "stream",
     "text": [
      "100%|██████████| 75/75 [00:03<00:00, 19.87it/s, valid_loss=0.276]\n"
     ]
    },
    {
     "name": "stdout",
     "output_type": "stream",
     "text": [
      "valid accuracy: 0.940000\n",
      "Epoch: 53\n"
     ]
    },
    {
     "name": "stderr",
     "output_type": "stream",
     "text": [
      "100%|██████████| 300/300 [00:32<00:00,  9.12it/s, lr=0.000336, train_loss=0.225]\n"
     ]
    },
    {
     "name": "stdout",
     "output_type": "stream",
     "text": [
      "train accuracy: 0.978750\n"
     ]
    },
    {
     "name": "stderr",
     "output_type": "stream",
     "text": [
      "100%|██████████| 75/75 [00:01<00:00, 41.25it/s, valid_loss=0.273]\n"
     ]
    },
    {
     "name": "stdout",
     "output_type": "stream",
     "text": [
      "valid accuracy: 0.935000\n",
      "Epoch: 54\n"
     ]
    },
    {
     "name": "stderr",
     "output_type": "stream",
     "text": [
      "100%|██████████| 300/300 [00:32<00:00,  9.34it/s, lr=0.000336, train_loss=0.226]\n"
     ]
    },
    {
     "name": "stdout",
     "output_type": "stream",
     "text": [
      "train accuracy: 0.981250\n"
     ]
    },
    {
     "name": "stderr",
     "output_type": "stream",
     "text": [
      "100%|██████████| 75/75 [00:01<00:00, 42.21it/s, valid_loss=0.276]\n"
     ]
    },
    {
     "name": "stdout",
     "output_type": "stream",
     "text": [
      "valid accuracy: 0.935000\n",
      "Epoch: 55\n"
     ]
    },
    {
     "name": "stderr",
     "output_type": "stream",
     "text": [
      "100%|██████████| 300/300 [00:29<00:00, 10.23it/s, lr=0.000336, train_loss=0.225]\n"
     ]
    },
    {
     "name": "stdout",
     "output_type": "stream",
     "text": [
      "train accuracy: 0.985833\n"
     ]
    },
    {
     "name": "stderr",
     "output_type": "stream",
     "text": [
      "100%|██████████| 75/75 [00:01<00:00, 41.11it/s, valid_loss=0.273]\n"
     ]
    },
    {
     "name": "stdout",
     "output_type": "stream",
     "text": [
      "valid accuracy: 0.945000\n",
      "Epoch: 56\n"
     ]
    },
    {
     "name": "stderr",
     "output_type": "stream",
     "text": [
      "100%|██████████| 300/300 [00:29<00:00, 10.26it/s, lr=0.000268, train_loss=0.224]\n"
     ]
    },
    {
     "name": "stdout",
     "output_type": "stream",
     "text": [
      "train accuracy: 0.974167\n"
     ]
    },
    {
     "name": "stderr",
     "output_type": "stream",
     "text": [
      "100%|██████████| 75/75 [00:03<00:00, 19.52it/s, valid_loss=0.287]\n"
     ]
    },
    {
     "name": "stdout",
     "output_type": "stream",
     "text": [
      "valid accuracy: 0.933333\n",
      "Epoch: 57\n"
     ]
    },
    {
     "name": "stderr",
     "output_type": "stream",
     "text": [
      "100%|██████████| 300/300 [00:41<00:00,  7.30it/s, lr=0.000268, train_loss=0.223]\n"
     ]
    },
    {
     "name": "stdout",
     "output_type": "stream",
     "text": [
      "train accuracy: 0.983750\n"
     ]
    },
    {
     "name": "stderr",
     "output_type": "stream",
     "text": [
      "100%|██████████| 75/75 [00:03<00:00, 19.39it/s, valid_loss=0.27] \n"
     ]
    },
    {
     "name": "stdout",
     "output_type": "stream",
     "text": [
      "valid accuracy: 0.945000\n",
      "Epoch: 58\n"
     ]
    },
    {
     "name": "stderr",
     "output_type": "stream",
     "text": [
      "100%|██████████| 300/300 [00:40<00:00,  7.36it/s, lr=0.000268, train_loss=0.223]\n"
     ]
    },
    {
     "name": "stdout",
     "output_type": "stream",
     "text": [
      "train accuracy: 0.985833\n"
     ]
    },
    {
     "name": "stderr",
     "output_type": "stream",
     "text": [
      "100%|██████████| 75/75 [00:01<00:00, 41.42it/s, valid_loss=0.272]\n"
     ]
    },
    {
     "name": "stdout",
     "output_type": "stream",
     "text": [
      "valid accuracy: 0.941667\n",
      "Epoch: 59\n"
     ]
    },
    {
     "name": "stderr",
     "output_type": "stream",
     "text": [
      "100%|██████████| 300/300 [00:40<00:00,  7.32it/s, lr=0.000268, train_loss=0.222]\n"
     ]
    },
    {
     "name": "stdout",
     "output_type": "stream",
     "text": [
      "train accuracy: 0.982917\n"
     ]
    },
    {
     "name": "stderr",
     "output_type": "stream",
     "text": [
      "100%|██████████| 75/75 [00:01<00:00, 40.39it/s, valid_loss=0.276]\n"
     ]
    },
    {
     "name": "stdout",
     "output_type": "stream",
     "text": [
      "valid accuracy: 0.936667\n",
      "Epoch: 60\n"
     ]
    },
    {
     "name": "stderr",
     "output_type": "stream",
     "text": [
      "100%|██████████| 300/300 [00:29<00:00, 10.19it/s, lr=0.000268, train_loss=0.221]\n"
     ]
    },
    {
     "name": "stdout",
     "output_type": "stream",
     "text": [
      "train accuracy: 0.984583\n"
     ]
    },
    {
     "name": "stderr",
     "output_type": "stream",
     "text": [
      "100%|██████████| 75/75 [00:03<00:00, 19.68it/s, valid_loss=0.271]\n"
     ]
    },
    {
     "name": "stdout",
     "output_type": "stream",
     "text": [
      "valid accuracy: 0.940000\n",
      "CLIPModel Parameters: 2.202881M;  \n",
      "Final accuracy max for S3_Dataset_1s.npz: 0.953\n",
      "Copied and renamed 35_best.pt to cross_trails_s3_best.pt\n",
      "Processing file: S4_Dataset_1s.npz\n",
      "Epoch: 1\n"
     ]
    },
    {
     "name": "stderr",
     "output_type": "stream",
     "text": [
      "100%|██████████| 300/300 [00:41<00:00,  7.30it/s, lr=0.002, train_loss=0.781]\n"
     ]
    },
    {
     "name": "stdout",
     "output_type": "stream",
     "text": [
      "train accuracy: 0.548750\n"
     ]
    },
    {
     "name": "stderr",
     "output_type": "stream",
     "text": [
      "100%|██████████| 75/75 [00:01<00:00, 40.52it/s, valid_loss=0.714]\n"
     ]
    },
    {
     "name": "stdout",
     "output_type": "stream",
     "text": [
      "valid accuracy: 0.555000\n",
      "Saved Best Model as Cross_trails/S4/1_best.pt!\n",
      "Epoch: 2\n"
     ]
    },
    {
     "name": "stderr",
     "output_type": "stream",
     "text": [
      "100%|██████████| 300/300 [00:29<00:00, 10.24it/s, lr=0.002, train_loss=0.717]\n"
     ]
    },
    {
     "name": "stdout",
     "output_type": "stream",
     "text": [
      "train accuracy: 0.587917\n"
     ]
    },
    {
     "name": "stderr",
     "output_type": "stream",
     "text": [
      "100%|██████████| 75/75 [00:01<00:00, 42.21it/s, valid_loss=0.714]\n"
     ]
    },
    {
     "name": "stdout",
     "output_type": "stream",
     "text": [
      "valid accuracy: 0.570000\n",
      "Saved Best Model as Cross_trails/S4/2_best.pt!\n",
      "Epoch: 3\n"
     ]
    },
    {
     "name": "stderr",
     "output_type": "stream",
     "text": [
      "100%|██████████| 300/300 [00:34<00:00,  8.76it/s, lr=0.002, train_loss=0.714]\n"
     ]
    },
    {
     "name": "stdout",
     "output_type": "stream",
     "text": [
      "train accuracy: 0.603333\n"
     ]
    },
    {
     "name": "stderr",
     "output_type": "stream",
     "text": [
      "100%|██████████| 75/75 [00:01<00:00, 42.62it/s, valid_loss=0.714]\n"
     ]
    },
    {
     "name": "stdout",
     "output_type": "stream",
     "text": [
      "valid accuracy: 0.576667\n",
      "Saved Best Model as Cross_trails/S4/3_best.pt!\n",
      "Epoch: 4\n"
     ]
    },
    {
     "name": "stderr",
     "output_type": "stream",
     "text": [
      "100%|██████████| 300/300 [00:28<00:00, 10.55it/s, lr=0.002, train_loss=0.714]\n"
     ]
    },
    {
     "name": "stdout",
     "output_type": "stream",
     "text": [
      "train accuracy: 0.620000\n"
     ]
    },
    {
     "name": "stderr",
     "output_type": "stream",
     "text": [
      "100%|██████████| 75/75 [00:01<00:00, 40.92it/s, valid_loss=0.714]\n"
     ]
    },
    {
     "name": "stdout",
     "output_type": "stream",
     "text": [
      "valid accuracy: 0.593333\n",
      "Saved Best Model as Cross_trails/S4/4_best.pt!\n",
      "Epoch: 5\n"
     ]
    },
    {
     "name": "stderr",
     "output_type": "stream",
     "text": [
      "100%|██████████| 300/300 [00:17<00:00, 17.28it/s, lr=0.002, train_loss=0.714]\n"
     ]
    },
    {
     "name": "stdout",
     "output_type": "stream",
     "text": [
      "train accuracy: 0.620833\n"
     ]
    },
    {
     "name": "stderr",
     "output_type": "stream",
     "text": [
      "100%|██████████| 75/75 [00:01<00:00, 39.63it/s, valid_loss=0.711]\n"
     ]
    },
    {
     "name": "stdout",
     "output_type": "stream",
     "text": [
      "valid accuracy: 0.583333\n",
      "Epoch: 6\n"
     ]
    },
    {
     "name": "stderr",
     "output_type": "stream",
     "text": [
      "100%|██████████| 300/300 [00:29<00:00, 10.21it/s, lr=0.002, train_loss=0.697]\n"
     ]
    },
    {
     "name": "stdout",
     "output_type": "stream",
     "text": [
      "train accuracy: 0.761667\n"
     ]
    },
    {
     "name": "stderr",
     "output_type": "stream",
     "text": [
      "100%|██████████| 75/75 [00:01<00:00, 41.75it/s, valid_loss=0.632]\n"
     ]
    },
    {
     "name": "stdout",
     "output_type": "stream",
     "text": [
      "valid accuracy: 0.698333\n",
      "Saved Best Model as Cross_trails/S4/6_best.pt!\n",
      "Epoch: 7\n"
     ]
    },
    {
     "name": "stderr",
     "output_type": "stream",
     "text": [
      "100%|██████████| 300/300 [00:40<00:00,  7.35it/s, lr=0.002, train_loss=0.542]\n"
     ]
    },
    {
     "name": "stdout",
     "output_type": "stream",
     "text": [
      "train accuracy: 0.847500\n"
     ]
    },
    {
     "name": "stderr",
     "output_type": "stream",
     "text": [
      "100%|██████████| 75/75 [00:03<00:00, 19.82it/s, valid_loss=0.468]\n"
     ]
    },
    {
     "name": "stdout",
     "output_type": "stream",
     "text": [
      "valid accuracy: 0.830000\n",
      "Saved Best Model as Cross_trails/S4/7_best.pt!\n",
      "Epoch: 8\n"
     ]
    },
    {
     "name": "stderr",
     "output_type": "stream",
     "text": [
      "100%|██████████| 300/300 [00:40<00:00,  7.35it/s, lr=0.002, train_loss=0.453]\n"
     ]
    },
    {
     "name": "stdout",
     "output_type": "stream",
     "text": [
      "train accuracy: 0.857500\n"
     ]
    },
    {
     "name": "stderr",
     "output_type": "stream",
     "text": [
      "100%|██████████| 75/75 [00:03<00:00, 22.90it/s, valid_loss=0.496]\n"
     ]
    },
    {
     "name": "stdout",
     "output_type": "stream",
     "text": [
      "valid accuracy: 0.851667\n",
      "Saved Best Model as Cross_trails/S4/8_best.pt!\n",
      "Epoch: 9\n"
     ]
    },
    {
     "name": "stderr",
     "output_type": "stream",
     "text": [
      "100%|██████████| 300/300 [00:36<00:00,  8.31it/s, lr=0.002, train_loss=0.416]\n"
     ]
    },
    {
     "name": "stdout",
     "output_type": "stream",
     "text": [
      "train accuracy: 0.882917\n"
     ]
    },
    {
     "name": "stderr",
     "output_type": "stream",
     "text": [
      "100%|██████████| 75/75 [00:01<00:00, 40.99it/s, valid_loss=0.446]\n"
     ]
    },
    {
     "name": "stdout",
     "output_type": "stream",
     "text": [
      "valid accuracy: 0.863333\n",
      "Saved Best Model as Cross_trails/S4/9_best.pt!\n",
      "Epoch: 10\n"
     ]
    },
    {
     "name": "stderr",
     "output_type": "stream",
     "text": [
      "100%|██████████| 300/300 [00:29<00:00, 10.21it/s, lr=0.002, train_loss=0.399]\n"
     ]
    },
    {
     "name": "stdout",
     "output_type": "stream",
     "text": [
      "train accuracy: 0.893333\n"
     ]
    },
    {
     "name": "stderr",
     "output_type": "stream",
     "text": [
      "100%|██████████| 75/75 [00:01<00:00, 40.32it/s, valid_loss=0.386]\n"
     ]
    },
    {
     "name": "stdout",
     "output_type": "stream",
     "text": [
      "valid accuracy: 0.876667\n",
      "Saved Best Model as Cross_trails/S4/10_best.pt!\n",
      "Epoch: 11\n"
     ]
    },
    {
     "name": "stderr",
     "output_type": "stream",
     "text": [
      "100%|██████████| 300/300 [00:36<00:00,  8.19it/s, lr=0.002, train_loss=0.378]\n"
     ]
    },
    {
     "name": "stdout",
     "output_type": "stream",
     "text": [
      "train accuracy: 0.907917\n"
     ]
    },
    {
     "name": "stderr",
     "output_type": "stream",
     "text": [
      "100%|██████████| 75/75 [00:01<00:00, 40.47it/s, valid_loss=0.369]\n"
     ]
    },
    {
     "name": "stdout",
     "output_type": "stream",
     "text": [
      "valid accuracy: 0.893333\n",
      "Saved Best Model as Cross_trails/S4/11_best.pt!\n",
      "Epoch: 12\n"
     ]
    },
    {
     "name": "stderr",
     "output_type": "stream",
     "text": [
      "100%|██████████| 300/300 [00:40<00:00,  7.32it/s, lr=0.002, train_loss=0.372]\n"
     ]
    },
    {
     "name": "stdout",
     "output_type": "stream",
     "text": [
      "train accuracy: 0.902500\n"
     ]
    },
    {
     "name": "stderr",
     "output_type": "stream",
     "text": [
      "100%|██████████| 75/75 [00:01<00:00, 41.75it/s, valid_loss=0.375]\n"
     ]
    },
    {
     "name": "stdout",
     "output_type": "stream",
     "text": [
      "valid accuracy: 0.903333\n",
      "Saved Best Model as Cross_trails/S4/12_best.pt!\n",
      "Epoch: 13\n"
     ]
    },
    {
     "name": "stderr",
     "output_type": "stream",
     "text": [
      "100%|██████████| 300/300 [00:37<00:00,  8.00it/s, lr=0.002, train_loss=0.368]\n"
     ]
    },
    {
     "name": "stdout",
     "output_type": "stream",
     "text": [
      "train accuracy: 0.905000\n"
     ]
    },
    {
     "name": "stderr",
     "output_type": "stream",
     "text": [
      "100%|██████████| 75/75 [00:01<00:00, 38.90it/s, valid_loss=0.378]\n"
     ]
    },
    {
     "name": "stdout",
     "output_type": "stream",
     "text": [
      "valid accuracy: 0.913333\n",
      "Saved Best Model as Cross_trails/S4/13_best.pt!\n",
      "Epoch: 14\n"
     ]
    },
    {
     "name": "stderr",
     "output_type": "stream",
     "text": [
      "100%|██████████| 300/300 [00:40<00:00,  7.32it/s, lr=0.002, train_loss=0.367]\n"
     ]
    },
    {
     "name": "stdout",
     "output_type": "stream",
     "text": [
      "train accuracy: 0.906667\n"
     ]
    },
    {
     "name": "stderr",
     "output_type": "stream",
     "text": [
      "100%|██████████| 75/75 [00:01<00:00, 41.02it/s, valid_loss=0.368]\n"
     ]
    },
    {
     "name": "stdout",
     "output_type": "stream",
     "text": [
      "valid accuracy: 0.903333\n",
      "Epoch: 15\n"
     ]
    },
    {
     "name": "stderr",
     "output_type": "stream",
     "text": [
      "100%|██████████| 300/300 [00:29<00:00, 10.23it/s, lr=0.002, train_loss=0.351]\n"
     ]
    },
    {
     "name": "stdout",
     "output_type": "stream",
     "text": [
      "train accuracy: 0.897917\n"
     ]
    },
    {
     "name": "stderr",
     "output_type": "stream",
     "text": [
      "100%|██████████| 75/75 [00:01<00:00, 41.45it/s, valid_loss=0.406]\n"
     ]
    },
    {
     "name": "stdout",
     "output_type": "stream",
     "text": [
      "valid accuracy: 0.906667\n",
      "Epoch: 16\n"
     ]
    },
    {
     "name": "stderr",
     "output_type": "stream",
     "text": [
      "100%|██████████| 300/300 [00:29<00:00, 10.24it/s, lr=0.002, train_loss=0.349]\n"
     ]
    },
    {
     "name": "stdout",
     "output_type": "stream",
     "text": [
      "train accuracy: 0.909583\n"
     ]
    },
    {
     "name": "stderr",
     "output_type": "stream",
     "text": [
      "100%|██████████| 75/75 [00:03<00:00, 23.54it/s, valid_loss=0.407]\n"
     ]
    },
    {
     "name": "stdout",
     "output_type": "stream",
     "text": [
      "valid accuracy: 0.911667\n",
      "Epoch: 17\n"
     ]
    },
    {
     "name": "stderr",
     "output_type": "stream",
     "text": [
      "100%|██████████| 300/300 [00:41<00:00,  7.27it/s, lr=0.002, train_loss=0.342]\n"
     ]
    },
    {
     "name": "stdout",
     "output_type": "stream",
     "text": [
      "train accuracy: 0.921250\n"
     ]
    },
    {
     "name": "stderr",
     "output_type": "stream",
     "text": [
      "100%|██████████| 75/75 [00:03<00:00, 19.74it/s, valid_loss=0.376]\n"
     ]
    },
    {
     "name": "stdout",
     "output_type": "stream",
     "text": [
      "valid accuracy: 0.921667\n",
      "Saved Best Model as Cross_trails/S4/17_best.pt!\n",
      "Epoch: 18\n"
     ]
    },
    {
     "name": "stderr",
     "output_type": "stream",
     "text": [
      "100%|██████████| 300/300 [00:34<00:00,  8.68it/s, lr=0.0016, train_loss=0.336]\n"
     ]
    },
    {
     "name": "stdout",
     "output_type": "stream",
     "text": [
      "train accuracy: 0.925000\n"
     ]
    },
    {
     "name": "stderr",
     "output_type": "stream",
     "text": [
      "100%|██████████| 75/75 [00:03<00:00, 19.76it/s, valid_loss=0.4]  \n"
     ]
    },
    {
     "name": "stdout",
     "output_type": "stream",
     "text": [
      "valid accuracy: 0.923333\n",
      "Saved Best Model as Cross_trails/S4/18_best.pt!\n",
      "Epoch: 19\n"
     ]
    },
    {
     "name": "stderr",
     "output_type": "stream",
     "text": [
      "100%|██████████| 300/300 [00:29<00:00, 10.20it/s, lr=0.0016, train_loss=0.335]\n"
     ]
    },
    {
     "name": "stdout",
     "output_type": "stream",
     "text": [
      "train accuracy: 0.926667\n"
     ]
    },
    {
     "name": "stderr",
     "output_type": "stream",
     "text": [
      "100%|██████████| 75/75 [00:01<00:00, 41.43it/s, valid_loss=0.324]\n"
     ]
    },
    {
     "name": "stdout",
     "output_type": "stream",
     "text": [
      "valid accuracy: 0.935000\n",
      "Saved Best Model as Cross_trails/S4/19_best.pt!\n",
      "Epoch: 20\n"
     ]
    },
    {
     "name": "stderr",
     "output_type": "stream",
     "text": [
      "100%|██████████| 300/300 [00:32<00:00,  9.24it/s, lr=0.0016, train_loss=0.319]\n"
     ]
    },
    {
     "name": "stdout",
     "output_type": "stream",
     "text": [
      "train accuracy: 0.932083\n"
     ]
    },
    {
     "name": "stderr",
     "output_type": "stream",
     "text": [
      "100%|██████████| 75/75 [00:01<00:00, 41.43it/s, valid_loss=0.336]\n"
     ]
    },
    {
     "name": "stdout",
     "output_type": "stream",
     "text": [
      "valid accuracy: 0.933333\n",
      "Epoch: 21\n"
     ]
    },
    {
     "name": "stderr",
     "output_type": "stream",
     "text": [
      "100%|██████████| 300/300 [00:28<00:00, 10.50it/s, lr=0.0016, train_loss=0.323]\n"
     ]
    },
    {
     "name": "stdout",
     "output_type": "stream",
     "text": [
      "train accuracy: 0.935000\n"
     ]
    },
    {
     "name": "stderr",
     "output_type": "stream",
     "text": [
      "100%|██████████| 75/75 [00:01<00:00, 38.80it/s, valid_loss=0.32] \n"
     ]
    },
    {
     "name": "stdout",
     "output_type": "stream",
     "text": [
      "valid accuracy: 0.930000\n",
      "Epoch: 22\n"
     ]
    },
    {
     "name": "stderr",
     "output_type": "stream",
     "text": [
      "100%|██████████| 300/300 [00:23<00:00, 12.70it/s, lr=0.0016, train_loss=0.316]\n"
     ]
    },
    {
     "name": "stdout",
     "output_type": "stream",
     "text": [
      "train accuracy: 0.945000\n"
     ]
    },
    {
     "name": "stderr",
     "output_type": "stream",
     "text": [
      "100%|██████████| 75/75 [00:01<00:00, 40.11it/s, valid_loss=0.313]\n"
     ]
    },
    {
     "name": "stdout",
     "output_type": "stream",
     "text": [
      "valid accuracy: 0.943333\n",
      "Saved Best Model as Cross_trails/S4/22_best.pt!\n",
      "Epoch: 23\n"
     ]
    },
    {
     "name": "stderr",
     "output_type": "stream",
     "text": [
      "100%|██████████| 300/300 [00:28<00:00, 10.49it/s, lr=0.0016, train_loss=0.312]\n"
     ]
    },
    {
     "name": "stdout",
     "output_type": "stream",
     "text": [
      "train accuracy: 0.945000\n"
     ]
    },
    {
     "name": "stderr",
     "output_type": "stream",
     "text": [
      "100%|██████████| 75/75 [00:01<00:00, 41.84it/s, valid_loss=0.311]\n"
     ]
    },
    {
     "name": "stdout",
     "output_type": "stream",
     "text": [
      "valid accuracy: 0.933333\n",
      "Epoch: 24\n"
     ]
    },
    {
     "name": "stderr",
     "output_type": "stream",
     "text": [
      "100%|██████████| 300/300 [00:25<00:00, 11.57it/s, lr=0.0016, train_loss=0.311]\n"
     ]
    },
    {
     "name": "stdout",
     "output_type": "stream",
     "text": [
      "train accuracy: 0.947083\n"
     ]
    },
    {
     "name": "stderr",
     "output_type": "stream",
     "text": [
      "100%|██████████| 75/75 [00:01<00:00, 39.65it/s, valid_loss=0.302]\n"
     ]
    },
    {
     "name": "stdout",
     "output_type": "stream",
     "text": [
      "valid accuracy: 0.938333\n",
      "Epoch: 25\n"
     ]
    },
    {
     "name": "stderr",
     "output_type": "stream",
     "text": [
      "100%|██████████| 300/300 [00:17<00:00, 17.18it/s, lr=0.0016, train_loss=0.301]\n"
     ]
    },
    {
     "name": "stdout",
     "output_type": "stream",
     "text": [
      "train accuracy: 0.949167\n"
     ]
    },
    {
     "name": "stderr",
     "output_type": "stream",
     "text": [
      "100%|██████████| 75/75 [00:03<00:00, 19.59it/s, valid_loss=0.302]\n"
     ]
    },
    {
     "name": "stdout",
     "output_type": "stream",
     "text": [
      "valid accuracy: 0.953333\n",
      "Saved Best Model as Cross_trails/S4/25_best.pt!\n",
      "Epoch: 26\n"
     ]
    },
    {
     "name": "stderr",
     "output_type": "stream",
     "text": [
      "100%|██████████| 300/300 [00:28<00:00, 10.38it/s, lr=0.0016, train_loss=0.317]\n"
     ]
    },
    {
     "name": "stdout",
     "output_type": "stream",
     "text": [
      "train accuracy: 0.952083\n"
     ]
    },
    {
     "name": "stderr",
     "output_type": "stream",
     "text": [
      "100%|██████████| 75/75 [00:03<00:00, 19.67it/s, valid_loss=0.304]\n"
     ]
    },
    {
     "name": "stdout",
     "output_type": "stream",
     "text": [
      "valid accuracy: 0.946667\n",
      "Epoch: 27\n"
     ]
    },
    {
     "name": "stderr",
     "output_type": "stream",
     "text": [
      "100%|██████████| 300/300 [00:17<00:00, 17.32it/s, lr=0.0016, train_loss=0.298]\n"
     ]
    },
    {
     "name": "stdout",
     "output_type": "stream",
     "text": [
      "train accuracy: 0.953750\n"
     ]
    },
    {
     "name": "stderr",
     "output_type": "stream",
     "text": [
      "100%|██████████| 300/300 [00:28<00:00, 10.71it/s, lr=0.00128, train_loss=0.285]\n"
     ]
    },
    {
     "name": "stdout",
     "output_type": "stream",
     "text": [
      "train accuracy: 0.961667\n"
     ]
    },
    {
     "name": "stderr",
     "output_type": "stream",
     "text": [
      "100%|██████████| 75/75 [00:01<00:00, 39.79it/s, valid_loss=0.29] \n"
     ]
    },
    {
     "name": "stdout",
     "output_type": "stream",
     "text": [
      "valid accuracy: 0.950000\n",
      "Epoch: 32\n"
     ]
    },
    {
     "name": "stderr",
     "output_type": "stream",
     "text": [
      "100%|██████████| 300/300 [00:28<00:00, 10.50it/s, lr=0.00128, train_loss=0.285]\n"
     ]
    },
    {
     "name": "stdout",
     "output_type": "stream",
     "text": [
      "train accuracy: 0.960000\n"
     ]
    },
    {
     "name": "stderr",
     "output_type": "stream",
     "text": [
      "100%|██████████| 75/75 [00:03<00:00, 19.90it/s, valid_loss=0.285]\n"
     ]
    },
    {
     "name": "stdout",
     "output_type": "stream",
     "text": [
      "valid accuracy: 0.958333\n",
      "Saved Best Model as Cross_trails/S4/32_best.pt!\n",
      "Epoch: 33\n"
     ]
    },
    {
     "name": "stderr",
     "output_type": "stream",
     "text": [
      "100%|██████████| 300/300 [00:19<00:00, 15.34it/s, lr=0.00128, train_loss=0.287]\n"
     ]
    },
    {
     "name": "stdout",
     "output_type": "stream",
     "text": [
      "train accuracy: 0.961250\n"
     ]
    },
    {
     "name": "stderr",
     "output_type": "stream",
     "text": [
      "100%|██████████| 75/75 [00:01<00:00, 39.70it/s, valid_loss=0.283]\n"
     ]
    },
    {
     "name": "stdout",
     "output_type": "stream",
     "text": [
      "valid accuracy: 0.955000\n",
      "Epoch: 34\n"
     ]
    },
    {
     "name": "stderr",
     "output_type": "stream",
     "text": [
      "100%|██████████| 300/300 [00:25<00:00, 11.60it/s, lr=0.00128, train_loss=0.283]\n"
     ]
    },
    {
     "name": "stdout",
     "output_type": "stream",
     "text": [
      "train accuracy: 0.958750\n"
     ]
    },
    {
     "name": "stderr",
     "output_type": "stream",
     "text": [
      "100%|██████████| 75/75 [00:03<00:00, 19.81it/s, valid_loss=0.295]\n"
     ]
    },
    {
     "name": "stdout",
     "output_type": "stream",
     "text": [
      "valid accuracy: 0.946667\n",
      "Epoch: 35\n"
     ]
    },
    {
     "name": "stderr",
     "output_type": "stream",
     "text": [
      "100%|██████████| 300/300 [00:17<00:00, 17.17it/s, lr=0.00128, train_loss=0.279]\n"
     ]
    },
    {
     "name": "stdout",
     "output_type": "stream",
     "text": [
      "train accuracy: 0.963333\n"
     ]
    },
    {
     "name": "stderr",
     "output_type": "stream",
     "text": [
      "100%|██████████| 75/75 [00:01<00:00, 40.83it/s, valid_loss=0.282]\n"
     ]
    },
    {
     "name": "stdout",
     "output_type": "stream",
     "text": [
      "valid accuracy: 0.955000\n",
      "Epoch: 36\n"
     ]
    },
    {
     "name": "stderr",
     "output_type": "stream",
     "text": [
      "100%|██████████| 300/300 [00:28<00:00, 10.52it/s, lr=0.00128, train_loss=0.281]\n"
     ]
    },
    {
     "name": "stdout",
     "output_type": "stream",
     "text": [
      "train accuracy: 0.964167\n"
     ]
    },
    {
     "name": "stderr",
     "output_type": "stream",
     "text": [
      "  8%|▊         | 6/75 [00:00<00:03, 21.89it/s, valid_loss=0.261]IOPub message rate exceeded.\n",
      "The notebook server will temporarily stop sending output\n",
      "to the client in order to avoid crashing it.\n",
      "To change this limit, set the config variable\n",
      "`--NotebookApp.iopub_msg_rate_limit`.\n",
      "\n",
      "Current values:\n",
      "NotebookApp.iopub_msg_rate_limit=1000.0 (msgs/sec)\n",
      "NotebookApp.rate_limit_window=3.0 (secs)\n",
      "\n"
     ]
    }
   ],
   "source": [
    "results = run_subject_arrange(Config, start_subject=1, end_subject=4)"
   ]
  },
  {
   "attachments": {},
   "cell_type": "markdown",
   "id": "164df06a",
   "metadata": {},
   "source": [
    "## Interpretability"
   ]
  },
  {
   "cell_type": "markdown",
   "id": "ae410600",
   "metadata": {},
   "source": [
    "### plot_frequency_response"
   ]
  },
  {
   "cell_type": "code",
   "execution_count": 22,
   "id": "231932fb",
   "metadata": {
    "ExecuteTime": {
     "end_time": "2024-12-15T16:07:48.996398Z",
     "start_time": "2024-12-15T16:07:48.988286Z"
    }
   },
   "outputs": [],
   "source": [
    "import torch\n",
    "import numpy as np\n",
    "import matplotlib.pyplot as plt\n",
    "\n",
    "def plot_frequency_response(sinc_conv, sample_rate=16000):\n",
    "    \"\"\"\n",
    "    Plot the normalized cumulative frequency response curve.\n",
    "    \n",
    "    Parameters:\n",
    "    - sinc_conv: SincConv_fast layer object.\n",
    "    - sample_rate: Sampling rate, default is 16000 Hz.\n",
    "    \n",
    "    Returns:\n",
    "    - Plots the normalized cumulative frequency response curve.\n",
    "    \"\"\"\n",
    "    # Get the filter length (kernel_size)\n",
    "    kernel_size = sinc_conv.kernel_size\n",
    "    print(kernel_size)\n",
    "    N = kernel_size  # Set N to kernel_size, which is the filter length\n",
    "    \n",
    "    # Get parameters of the SincConv_fast layer\n",
    "    sinc_conv_params = sinc_conv.state_dict()\n",
    "    low_hz = sinc_conv_params['low_hz_']\n",
    "    band_hz = sinc_conv_params['band_hz_']\n",
    "    \n",
    "    # Calculate the frequency axis\n",
    "    freqs = np.fft.rfftfreq(N, d=1/sample_rate)\n",
    "    \n",
    "    # Store all normalized filter frequency responses\n",
    "    normalized_responses = []\n",
    "    \n",
    "    # Calculate and normalize the frequency response for each filter\n",
    "    for i in range(low_hz.shape[0]):\n",
    "        low = low_hz[i].item()\n",
    "        band = band_hz[i].item()\n",
    "        high = low + band\n",
    "        \n",
    "        # Calculate the sinc filter\n",
    "        t = torch.arange(-(N-1)/2, (N-1)/2 + 1).float()\n",
    "        sinc_filter = torch.sin(2 * np.pi * high * t / sample_rate) - torch.sin(2 * np.pi * low * t / sample_rate)\n",
    "        sinc_filter /= (t + 1e-8)  # Avoid division by zero\n",
    "        sinc_filter *= 0.54 - 0.46 * torch.cos(2 * np.pi * torch.arange(N).float() / N)  # Hamming window\n",
    "        sinc_filter /= torch.norm(sinc_filter)  # Normalize filter weights\n",
    "        \n",
    "        # Calculate the frequency response\n",
    "        freq_response = np.abs(np.fft.rfft(sinc_filter.numpy(), n=N))\n",
    "\n",
    "        # Store the normalized frequency response\n",
    "        normalized_responses.append(freq_response)\n",
    "    \n",
    "    # Compute the average of all normalized frequency responses\n",
    "    avg_freq_response = np.mean(normalized_responses, axis=0)\n",
    "    print(avg_freq_response.shape)\n",
    "    \n",
    "#     # Final normalization\n",
    "#     avg_freq_response /= np.max(avg_freq_response)\n",
    "    \n",
    "    # Plot the frequency response curve\n",
    "    plt.figure(figsize=(10, 6))\n",
    "    plt.plot(freqs, avg_freq_response)\n",
    "    plt.title('Normalized Cumulative Frequency Response')\n",
    "    plt.xlabel('Frequency (Hz)')\n",
    "    plt.ylabel('Normalized Amplitude')\n",
    "    plt.grid(True)\n",
    "    plt.show()\n",
    "    \n",
    "    return freqs, avg_freq_response\n",
    "\n",
    "# Example usage\n",
    "# sinc_conv = model.eeg_encoder.sinc_conv  # Get the SincConv_fast layer object\n",
    "# plot_frequency_response(sinc_conv, sample_rate=16000)\n"
   ]
  },
  {
   "cell_type": "markdown",
   "id": "fbe03061",
   "metadata": {},
   "source": [
    "### EEG interpretability"
   ]
  },
  {
   "cell_type": "code",
   "execution_count": 23,
   "id": "b8497165",
   "metadata": {
    "ExecuteTime": {
     "end_time": "2024-12-15T16:07:49.098247Z",
     "start_time": "2024-12-15T16:07:49.002203Z"
    }
   },
   "outputs": [],
   "source": [
    "# before Training"
   ]
  },
  {
   "cell_type": "code",
   "execution_count": 24,
   "id": "c9ccb36b",
   "metadata": {
    "ExecuteTime": {
     "end_time": "2024-12-15T16:07:49.404303Z",
     "start_time": "2024-12-15T16:07:49.099763Z"
    }
   },
   "outputs": [
    {
     "name": "stdout",
     "output_type": "stream",
     "text": [
      "31\n",
      "(16,)\n"
     ]
    },
    {
     "data": {
      "image/png": "[encoded data removed]",
      "text/plain": [
       "<Figure size 1000x600 with 1 Axes>"
      ]
     },
     "metadata": {},
     "output_type": "display_data"
    }
   ],
   "source": [
    "model = CLIPModel().to(Config.device)\n",
    "eeg_Sinc = model.eeg_encoder.sinc_conv\n",
    "freqs, avg_freq_response_rand = plot_frequency_response(eeg_Sinc, sample_rate=128)"
   ]
  },
  {
   "cell_type": "code",
   "execution_count": 25,
   "id": "68c49de1",
   "metadata": {
    "ExecuteTime": {
     "end_time": "2024-12-15T16:07:49.407985Z",
     "start_time": "2024-12-15T16:07:49.406097Z"
    }
   },
   "outputs": [],
   "source": [
    "# after Training"
   ]
  },
  {
   "cell_type": "code",
   "execution_count": 26,
   "id": "4295b2d4",
   "metadata": {
    "ExecuteTime": {
     "end_time": "2024-12-15T16:07:49.707120Z",
     "start_time": "2024-12-15T16:07:49.409442Z"
    }
   },
   "outputs": [
    {
     "name": "stdout",
     "output_type": "stream",
     "text": [
      "31\n",
      "(16,)\n"
     ]
    },
    {
     "data": {
      "image/png": "[encoded data removed]",
      "text/plain": [
       "<Figure size 1000x600 with 1 Axes>"
      ]
     },
     "metadata": {},
     "output_type": "display_data"
    }
   ],
   "source": [
    "model = CLIPModel().to(Config.device)\n",
    "# 加载模型参数\n",
    "model.load_state_dict(torch.load(\"Cross_trails_trysomething_new_1019/S4/cross_trails_s4_best.pt\"))\n",
    "\n",
    "eeg_Sinc_1 = model.eeg_encoder.sinc_conv\n",
    "freqs,avg_freq_response_learn = plot_frequency_response(eeg_Sinc_1, sample_rate=128)"
   ]
  },
  {
   "cell_type": "code",
   "execution_count": null,
   "id": "0199a535",
   "metadata": {},
   "outputs": [],
   "source": []
  },
  {
   "cell_type": "code",
   "execution_count": 27,
   "id": "e3c34e94",
   "metadata": {
    "ExecuteTime": {
     "end_time": "2024-12-15T16:07:49.710835Z",
     "start_time": "2024-12-15T16:07:49.708894Z"
    }
   },
   "outputs": [],
   "source": [
    "# for all subject"
   ]
  },
  {
   "cell_type": "code",
   "execution_count": 28,
   "id": "ce9007f1",
   "metadata": {
    "ExecuteTime": {
     "end_time": "2024-12-15T16:07:50.009436Z",
     "start_time": "2024-12-15T16:07:49.712388Z"
    },
    "scrolled": true
   },
   "outputs": [
    {
     "name": "stdout",
     "output_type": "stream",
     "text": [
      "Processing file: Cross_trails/S1/cross_trails_s1_best.pt\n",
      "31\n",
      "(16,)\n"
     ]
    },
    {
     "data": {
      "image/png": "[encoded data removed]",
      "text/plain": [
       "<Figure size 1000x600 with 1 Axes>"
      ]
     },
     "metadata": {},
     "output_type": "display_data"
    }
   ],
   "source": [
    "# Initialize an 18x16 array to store the results\n",
    "results = np.zeros((18, 16))\n",
    "\n",
    "# Iterate through folders S1 to S16\n",
    "for i in range(1, 2):  # Adjust the range as needed (1 to 17 for S1 to S16)\n",
    "    folder_name = f\"S{i}\"\n",
    "    file_path = os.path.join(\"Cross_trails\", folder_name, f\"cross_trails_s{i}_best.pt\")\n",
    "    print(f\"Processing file: {file_path}\")\n",
    "    \n",
    "    # Check if the file exists\n",
    "    if os.path.isfile(file_path):\n",
    "        # Create the model and load parameters\n",
    "        model = CLIPModel().to(Config.device)\n",
    "        model.load_state_dict(torch.load(file_path))\n",
    "        \n",
    "        # Get the frequency response\n",
    "        eeg_Sinc_1 = model.eeg_encoder.sinc_conv\n",
    "        freqs, avg_freq_response_learn = plot_frequency_response(eeg_Sinc_1, sample_rate=128)\n",
    "        \n",
    "        # Save the results to the array, assuming you want to save the mean of avg_freq_response_learn\n",
    "        # Here, it is assumed that avg_freq_response_learn is a one-dimensional array; adjust as needed\n",
    "        results[i - 1, :len(avg_freq_response_learn)] = avg_freq_response_learn\n",
    "\n",
    "# # Print the results\n",
    "# print(results)\n",
    "\n",
    "# # Save the results to a file (optional)\n",
    "# np.save(\"avg_freq_response_learn_results.npy\", results)\n",
    "\n",
    "# # Save the results to a .mat file\n",
    "# savemat(\"avg_freq_response_learn_results.mat\", {\"results\": results})"
   ]
  },
  {
   "cell_type": "code",
   "execution_count": null,
   "id": "04b8aaf2",
   "metadata": {},
   "outputs": [],
   "source": []
  }
 ],
 "metadata": {
  "celltoolbar": "无",
  "kernelspec": {
   "display_name": "torch",
   "language": "python",
   "name": "torch"
  },
  "language_info": {
   "codemirror_mode": {
    "name": "ipython",
    "version": 3
   },
   "file_extension": ".py",
   "mimetype": "text/x-python",
   "name": "python",
   "nbconvert_exporter": "python",
   "pygments_lexer": "ipython3",
   "version": "3.10.14"
  },
  "toc": {
   "base_numbering": 1,
   "nav_menu": {},
   "number_sections": true,
   "sideBar": true,
   "skip_h1_title": false,
   "title_cell": "Table of Contents",
   "title_sidebar": "Contents",
   "toc_cell": false,
   "toc_position": {
    "height": "822.4px",
    "left": "136px",
    "top": "110.525px",
    "width": "348.688px"
   },
   "toc_section_display": true,
   "toc_window_display": true
  },
  "varInspector": {
   "cols": {
    "lenName": 16,
    "lenType": 16,
    "lenVar": 40
   },
   "kernels_config": {
    "python": {
     "delete_cmd_postfix": "",
     "delete_cmd_prefix": "del ",
     "library": "var_list.py",
     "varRefreshCmd": "print(var_dic_list())"
    },
    "r": {
     "delete_cmd_postfix": ") ",
     "delete_cmd_prefix": "rm(",
     "library": "var_list.r",
     "varRefreshCmd": "cat(var_dic_list()) "
    }
   },
   "types_to_exclude": [
    "module",
    "function",
    "builtin_function_or_method",
    "instance",
    "_Feature"
   ],
   "window_display": false
  }
 },
 "nbformat": 4,
 "nbformat_minor": 5
}
